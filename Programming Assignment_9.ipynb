{
 "cells": [
  {
   "cell_type": "code",
   "execution_count": 1,
   "id": "9f70737e",
   "metadata": {},
   "outputs": [],
   "source": [
    "# Write a Python program to check if the given number is a Disarium Number?"
   ]
  },
  {
   "cell_type": "code",
   "execution_count": 5,
   "id": "97b0ee2b",
   "metadata": {},
   "outputs": [
    {
     "name": "stdout",
     "output_type": "stream",
     "text": [
      "Enter the number: 89\n",
      "The number is Disarium number.\n"
     ]
    }
   ],
   "source": [
    "class DisariumCheck:\n",
    "    def disarium_check(self, num1):\n",
    "        self.num = num1\n",
    "        self.sum = 0\n",
    "        self.counter = 1\n",
    "        for i in self.num:\n",
    "            self.sum = self.sum + (int(i)**self.counter)\n",
    "            self.counter += 1\n",
    "        if self.sum == int(self.num):\n",
    "            return \"The number is Disarium number.\"\n",
    "        else:\n",
    "            return \"The number is not Disarium number.\"\n",
    "\n",
    "try:\n",
    "    num = int(input(\"Enter the number: \"))\n",
    "except ValueError:\n",
    "    print(\"Enter a integer not string/float\")\n",
    "else:\n",
    "    a = DisariumCheck()\n",
    "    print(a.disarium_check(str(num)))"
   ]
  },
  {
   "cell_type": "code",
   "execution_count": 3,
   "id": "52765bdd",
   "metadata": {},
   "outputs": [],
   "source": [
    "# Write a Python program to print all disarium numbers between 1 to 100?"
   ]
  },
  {
   "cell_type": "code",
   "execution_count": 14,
   "id": "c2fd90ac",
   "metadata": {},
   "outputs": [
    {
     "name": "stdout",
     "output_type": "stream",
     "text": [
      "Enter the starting number: 1\n",
      "Enter the ending number: 100\n",
      "The list of disarium number in the given range is [1, 2, 3, 4, 5, 6, 7, 8, 9, 89]\n"
     ]
    }
   ],
   "source": [
    "class DisariumGenerator:\n",
    "    def disarium_generator(self, num1, num2):\n",
    "        self.start = num1\n",
    "        self.end = num2\n",
    "        self.sum = 0\n",
    "        self.result = []\n",
    "        for i in range(self.start, self.end+1):\n",
    "            self.sum = 0\n",
    "            self.counter = 1\n",
    "            for j in str(i):\n",
    "                self.sum = (self.sum + (int(j)**self.counter))\n",
    "                self.counter += 1\n",
    "                if self.sum == int(i):\n",
    "                    self.result.append(i)\n",
    "        return self.result\n",
    "\n",
    "\n",
    "try:\n",
    "    start = int(input(\"Enter the starting number: \"))\n",
    "    end = int(input(\"Enter the ending number: \"))\n",
    "except ValueError:\n",
    "    print(\"Enter a integer not string/float\")\n",
    "else:\n",
    "    if 0 < start < end:\n",
    "        a = DisariumGenerator()\n",
    "        print(f\"The list of disarium number in the given range is {a.disarium_generator(start, end)}\")\n",
    "    else:\n",
    "        print(\"Starting number should always be less than Ending number and starting number should be > 0\")\n"
   ]
  },
  {
   "cell_type": "code",
   "execution_count": 6,
   "id": "1908d009",
   "metadata": {},
   "outputs": [],
   "source": [
    "# Write a Python program to check if the given number is Happy Number?"
   ]
  },
  {
   "cell_type": "code",
   "execution_count": 17,
   "id": "75fe4034",
   "metadata": {},
   "outputs": [
    {
     "name": "stdout",
     "output_type": "stream",
     "text": [
      "Enter the starting number: 94\n",
      "Number is Happy Number\n"
     ]
    }
   ],
   "source": [
    "class HappyNumberCheck:\n",
    "    def happynumber_check(self, num1):\n",
    "        self.tracker = num1\n",
    "\n",
    "        # self.counter = 2\n",
    "        self.breaker = 0\n",
    "        self.check = False\n",
    "        while self.breaker < 1000:\n",
    "            self.breaker += 1\n",
    "            self.sum = 0\n",
    "            for j in str(self.tracker):\n",
    "                self.sum = (self.sum + (int(j)**2))\n",
    "            if len(str(self.sum)) == 1 and self.sum == 1:\n",
    "                self.check = True\n",
    "            else:\n",
    "                self.tracker = self.sum\n",
    "        if self.check:\n",
    "            return \"Number is Happy Number\"\n",
    "        else:\n",
    "            return \"Number is not Happy Number\"\n",
    "\n",
    "\n",
    "try:\n",
    "    num = int(input(\"Enter the starting number: \"))\n",
    "except ValueError:\n",
    "    print(\"Enter a integer not string/float\")\n",
    "else:\n",
    "    if num > 0:\n",
    "        a = HappyNumberCheck()\n",
    "        print(a.happynumber_check(num))\n",
    "    else:\n",
    "        print(\"Number should be > 0\")\n"
   ]
  },
  {
   "cell_type": "code",
   "execution_count": 15,
   "id": "5de8ce81",
   "metadata": {},
   "outputs": [],
   "source": [
    "#\tWrite a Python program to print all happy numbers between 1 and 100?"
   ]
  },
  {
   "cell_type": "code",
   "execution_count": 16,
   "id": "9f9ae3d2",
   "metadata": {},
   "outputs": [
    {
     "name": "stdout",
     "output_type": "stream",
     "text": [
      "Enter the starting number: 1\n",
      "Enter the ending number: 100\n",
      "The list of Happy number in the given range is [1, 7, 10, 13, 19, 23, 28, 31, 32, 44, 49, 68, 70, 79, 82, 86, 91, 94, 97, 100]\n"
     ]
    }
   ],
   "source": [
    "class HappyNumberCheck:\n",
    "    def happynumber_check(self, num1, num2):\n",
    "        self.start = num1\n",
    "        self.end = num2\n",
    "        self.sum = 0\n",
    "        self.result = []\n",
    "        self.counter = 2\n",
    "\n",
    "        for i in range(self.start, self.end+1):\n",
    "            self.breaker = 0\n",
    "            self.tracker = i\n",
    "            while self.breaker < 1000:\n",
    "                self.sum = 0\n",
    "                self.breaker += 1\n",
    "                for j in str(self.tracker):\n",
    "                    self.sum = (self.sum + (int(j)**self.counter))\n",
    "                if len(str(self.sum)) == 1 and self.sum == 1:\n",
    "                    self.result.append(i)\n",
    "                    break\n",
    "                else:\n",
    "                    self.tracker = self.sum\n",
    "        return self.result\n",
    "\n",
    "\n",
    "try:\n",
    "    start = int(input(\"Enter the starting number: \"))\n",
    "    end = int(input(\"Enter the ending number: \"))\n",
    "except ValueError:\n",
    "    print(\"Enter a integer not string/float\")\n",
    "else:\n",
    "    if 0 < start < end:\n",
    "        a = HappyNumberCheck()\n",
    "        print(f\"The list of Happy number in the given range is {a.happynumber_check(start, end)}\")\n",
    "    else:\n",
    "        print(\"Starting number should always be less than Ending number and starting number should be > 0\")\n"
   ]
  },
  {
   "cell_type": "code",
   "execution_count": 10,
   "id": "b55a6c64",
   "metadata": {},
   "outputs": [],
   "source": [
    "# Write a Python program to determine whether the given number is a Harshad Number?"
   ]
  },
  {
   "cell_type": "code",
   "execution_count": 18,
   "id": "f844cdaf",
   "metadata": {},
   "outputs": [
    {
     "name": "stdout",
     "output_type": "stream",
     "text": [
      "Enter the number: 12\n",
      "Number is Harshad Number\n"
     ]
    }
   ],
   "source": [
    "class HarshadNumberCheck:\n",
    "    def harshad_check(self, num1):\n",
    "        self.tracker = num1\n",
    "        self.sum = 0\n",
    "        self.check = False\n",
    "        for j in str(self.tracker):\n",
    "            self.sum = self.sum + (int(j))\n",
    "        if self.tracker % self.sum == 0:\n",
    "            return \"Number is Harshad Number\"\n",
    "        else:\n",
    "            return \"Number is not Harshad Number\"\n",
    "\n",
    "\n",
    "try:\n",
    "    num = int(input(\"Enter the number: \"))\n",
    "except ValueError:\n",
    "    print(\"Enter a integer not string/float\")\n",
    "else:\n",
    "    if num > 0:\n",
    "        a = HarshadNumberCheck()\n",
    "        print(a.harshad_check(num))\n",
    "    else:\n",
    "        print(\"Number should be > 0\")\n"
   ]
  },
  {
   "cell_type": "code",
   "execution_count": 12,
   "id": "575be6c0",
   "metadata": {},
   "outputs": [],
   "source": [
    "# Write a Python program to print all pronic numbers between 1 and 100?"
   ]
  },
  {
   "cell_type": "code",
   "execution_count": 19,
   "id": "4c14c2bb",
   "metadata": {},
   "outputs": [
    {
     "name": "stdout",
     "output_type": "stream",
     "text": [
      "Enter the starting number: 1\n",
      "Enter the ending number: 100\n",
      "The list of Pronic number in the given range is [2, 6, 12, 20, 30, 42, 56, 72, 90]\n"
     ]
    }
   ],
   "source": [
    "class PronicNumberCheck:\n",
    "    def pronicnumber_check(self, num1, num2):\n",
    "        self.start = num1\n",
    "        self.end = num2\n",
    "        self.result = []\n",
    "        for i in range(self.start, self.end+1):\n",
    "            self.first = 0\n",
    "            self.second = 1\n",
    "            while True:\n",
    "                if self.first*self.second == i:\n",
    "                    self.result.append(i)\n",
    "                    break\n",
    "                elif self.first*self.second > i:\n",
    "                    break\n",
    "                self.first += 1\n",
    "                self.second += 1\n",
    "        return self.result\n",
    "\n",
    "\n",
    "try:\n",
    "    start = int(input(\"Enter the starting number: \"))\n",
    "    end = int(input(\"Enter the ending number: \"))\n",
    "except ValueError:\n",
    "    print(\"Enter a integer not string/float\")\n",
    "else:\n",
    "    if 0 <= start < end:\n",
    "        a = PronicNumberCheck()\n",
    "        print(f\"The list of Pronic number in the given range is {a.pronicnumber_check(start, end)}\")\n",
    "    else:\n",
    "        print(\"Starting number should always be less than Ending number and starting number should be >= 0\")\n"
   ]
  },
  {
   "cell_type": "code",
   "execution_count": null,
   "id": "ce702c01",
   "metadata": {},
   "outputs": [],
   "source": []
  }
 ],
 "metadata": {
  "kernelspec": {
   "display_name": "Python 3",
   "language": "python",
   "name": "python3"
  },
  "language_info": {
   "codemirror_mode": {
    "name": "ipython",
    "version": 3
   },
   "file_extension": ".py",
   "mimetype": "text/x-python",
   "name": "python",
   "nbconvert_exporter": "python",
   "pygments_lexer": "ipython3",
   "version": "3.8.8"
  }
 },
 "nbformat": 4,
 "nbformat_minor": 5
}
