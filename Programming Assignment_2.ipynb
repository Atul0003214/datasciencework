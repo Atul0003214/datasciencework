{
 "cells": [
  {
   "cell_type": "code",
   "execution_count": null,
   "metadata": {},
   "outputs": [],
   "source": [
    "# Write a Python program to convert kilometers to miles?"
   ]
  },
  {
   "cell_type": "code",
   "execution_count": 2,
   "metadata": {},
   "outputs": [
    {
     "name": "stdout",
     "output_type": "stream",
     "text": [
      "Enter Kilometer1\n",
      "1.0 Km is equal to 0.62137 miles\n"
     ]
    }
   ],
   "source": [
    "try:\n",
    "    km = float(input(\"Enter Kilometer\"))\n",
    "except ValueError:\n",
    "    print(\"Please enter number\")\n",
    "else:\n",
    "    def convert_Km_to_mile(km):\n",
    "        mile = km * 0.62137\n",
    "        return mile\n",
    "\n",
    "\n",
    "    result = convert_Km_to_mile(km)\n",
    "    print(f\"{km} Km is equal to {result} miles\")"
   ]
  },
  {
   "cell_type": "code",
   "execution_count": null,
   "metadata": {},
   "outputs": [],
   "source": [
    "# Write a Python program to convert Celsius to Fahrenheit?"
   ]
  },
  {
   "cell_type": "code",
   "execution_count": 3,
   "metadata": {},
   "outputs": [
    {
     "name": "stdout",
     "output_type": "stream",
     "text": [
      "Enter Celsius0\n",
      "0.0 Celsius is equal to 32.0 Fahrenheit\n"
     ]
    }
   ],
   "source": [
    "try:\n",
    "    c = float(input(\"Enter Celsius\"))\n",
    "except ValueError:\n",
    "    print(\"Please enter number\")\n",
    "else:\n",
    "    def convert_cel_to_fah(c):\n",
    "        fer = ((c*9)/5) + 32\n",
    "        return fer\n",
    "\n",
    "\n",
    "    result = convert_cel_to_fah(c)\n",
    "    print(f\"{c} Celsius is equal to {result} Fahrenheit\")"
   ]
  },
  {
   "cell_type": "code",
   "execution_count": null,
   "metadata": {},
   "outputs": [],
   "source": [
    "# Write a Python program to display calendar?"
   ]
  },
  {
   "cell_type": "code",
   "execution_count": 11,
   "metadata": {},
   "outputs": [
    {
     "name": "stdout",
     "output_type": "stream",
     "text": [
      "Enter year: 2021\n",
      "                                               2021\n",
      "\n",
      "      January                   February                   March                     April\n",
      "Mo Tu We Th Fr Sa Su      Mo Tu We Th Fr Sa Su      Mo Tu We Th Fr Sa Su      Mo Tu We Th Fr Sa Su\n",
      "             1  2  3       1  2  3  4  5  6  7       1  2  3  4  5  6  7                1  2  3  4\n",
      " 4  5  6  7  8  9 10       8  9 10 11 12 13 14       8  9 10 11 12 13 14       5  6  7  8  9 10 11\n",
      "11 12 13 14 15 16 17      15 16 17 18 19 20 21      15 16 17 18 19 20 21      12 13 14 15 16 17 18\n",
      "18 19 20 21 22 23 24      22 23 24 25 26 27 28      22 23 24 25 26 27 28      19 20 21 22 23 24 25\n",
      "25 26 27 28 29 30 31                                29 30 31                  26 27 28 29 30\n",
      "\n",
      "        May                       June                      July                     August\n",
      "Mo Tu We Th Fr Sa Su      Mo Tu We Th Fr Sa Su      Mo Tu We Th Fr Sa Su      Mo Tu We Th Fr Sa Su\n",
      "                1  2          1  2  3  4  5  6                1  2  3  4                         1\n",
      " 3  4  5  6  7  8  9       7  8  9 10 11 12 13       5  6  7  8  9 10 11       2  3  4  5  6  7  8\n",
      "10 11 12 13 14 15 16      14 15 16 17 18 19 20      12 13 14 15 16 17 18       9 10 11 12 13 14 15\n",
      "17 18 19 20 21 22 23      21 22 23 24 25 26 27      19 20 21 22 23 24 25      16 17 18 19 20 21 22\n",
      "24 25 26 27 28 29 30      28 29 30                  26 27 28 29 30 31         23 24 25 26 27 28 29\n",
      "31                                                                            30 31\n",
      "\n",
      "     September                  October                   November                  December\n",
      "Mo Tu We Th Fr Sa Su      Mo Tu We Th Fr Sa Su      Mo Tu We Th Fr Sa Su      Mo Tu We Th Fr Sa Su\n",
      "       1  2  3  4  5                   1  2  3       1  2  3  4  5  6  7             1  2  3  4  5\n",
      " 6  7  8  9 10 11 12       4  5  6  7  8  9 10       8  9 10 11 12 13 14       6  7  8  9 10 11 12\n",
      "13 14 15 16 17 18 19      11 12 13 14 15 16 17      15 16 17 18 19 20 21      13 14 15 16 17 18 19\n",
      "20 21 22 23 24 25 26      18 19 20 21 22 23 24      22 23 24 25 26 27 28      20 21 22 23 24 25 26\n",
      "27 28 29 30               25 26 27 28 29 30 31      29 30                     27 28 29 30 31\n",
      "\n"
     ]
    }
   ],
   "source": [
    "# Import calendar module\n",
    "import calendar\n",
    "try:\n",
    "    year = int(input(\"Enter year: \"))\n",
    "except ValueError:\n",
    "    print(\"Enter the correct year\")\n",
    "else:\n",
    "    obj = calendar.calendar(year, w=2, l=1, c=6, m=4)\n",
    "    print(obj)"
   ]
  },
  {
   "cell_type": "code",
   "execution_count": null,
   "metadata": {},
   "outputs": [],
   "source": [
    "# Write a Python program to solve quadratic equation?"
   ]
  },
  {
   "cell_type": "code",
   "execution_count": 12,
   "metadata": {},
   "outputs": [
    {
     "name": "stdout",
     "output_type": "stream",
     "text": [
      "Enter Coefficient of x^2 with sign(+/-). value can not be 01\n",
      "Enter Coefficient of x with sign(+/-)4\n",
      "Enter constant with sign(+/-)4\n",
      "The solution of the quadratic equation is -2.0 and -2.0\n"
     ]
    }
   ],
   "source": [
    "# Quadratic equation is of this for x^2+x+c\n",
    "import math\n",
    "try:\n",
    "    c1 = float(input(\"Enter Coefficient of x^2 with sign(+/-). value can not be 0\"))\n",
    "    c2 = float(input(\"Enter Coefficient of x with sign(+/-)\"))\n",
    "    c3 = float(input(\"Enter constant with sign(+/-)\"))\n",
    "except ValueError:\n",
    "    print(\"Invalid Entry\")\n",
    "else:\n",
    "    def square_root(c1, c2, c3):\n",
    "        determinant = ((c2**2)-4*c1*c3)\n",
    "        if determinant < 0:\n",
    "            result = \"Roots are imaginary\"\n",
    "        else:\n",
    "            x1 = ((-(c2) + math.sqrt(determinant))/2*c1)\n",
    "            x2 = ((-(c2) - math.sqrt(determinant))/2*c1)\n",
    "            result = \"The solution of the quadratic equation is {} and {}\".format(x1, x2)\n",
    "        return result\n",
    "\n",
    "\n",
    "try:\n",
    "    if c1 == 0:\n",
    "        print(\"Coefficient of x^2 can not be zero\")\n",
    "    else:\n",
    "        solution = square_root(c1, c2, c3)\n",
    "        print(solution)\n",
    "except NameError:\n",
    "    print(\"Please enter a number.\")"
   ]
  },
  {
   "cell_type": "code",
   "execution_count": null,
   "metadata": {},
   "outputs": [],
   "source": [
    "# Write a Python program to swap two variables without temp variable?"
   ]
  },
  {
   "cell_type": "code",
   "execution_count": 13,
   "metadata": {},
   "outputs": [
    {
     "name": "stdout",
     "output_type": "stream",
     "text": [
      "Enter first variable: Apple\n",
      "Enter second variable: Mango\n",
      "The first data is: Mango and second data is: Apple\n"
     ]
    }
   ],
   "source": [
    "input1 = input(\"Enter first variable: \")\n",
    "input2 = input(\"Enter second variable: \")\n",
    "\n",
    "\n",
    "def swap(input1, input2):\n",
    "    input1, input2 = input2, input1\n",
    "    return 'The first data is: {a} and second data is: {b}'.format(a=input1, b=input2)\n",
    "\n",
    "\n",
    "result = swap(input1, input2)\n",
    "print(result)"
   ]
  }
 ],
 "metadata": {
  "kernelspec": {
   "display_name": "Python 3",
   "language": "python",
   "name": "python3"
  },
  "language_info": {
   "codemirror_mode": {
    "name": "ipython",
    "version": 3
   },
   "file_extension": ".py",
   "mimetype": "text/x-python",
   "name": "python",
   "nbconvert_exporter": "python",
   "pygments_lexer": "ipython3",
   "version": "3.8.5"
  }
 },
 "nbformat": 4,
 "nbformat_minor": 4
}
