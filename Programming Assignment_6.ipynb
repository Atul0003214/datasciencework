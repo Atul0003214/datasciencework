{
 "cells": [
  {
   "cell_type": "code",
   "execution_count": null,
   "metadata": {},
   "outputs": [],
   "source": [
    "# Write a Python Program to Display Fibonacci Sequence Using Recursion?"
   ]
  },
  {
   "cell_type": "code",
   "execution_count": 1,
   "metadata": {},
   "outputs": [
    {
     "name": "stdout",
     "output_type": "stream",
     "text": [
      "Enter a Number: 9\n",
      "0 1 1 2 3 5 8 13 21 "
     ]
    }
   ],
   "source": [
    "try:\n",
    "    num = int(input(\"Enter a Number: \"))\n",
    "\n",
    "except ValueError:\n",
    "    print(\"Please enter a correct number.\")\n",
    "else:\n",
    "    class Recursion:\n",
    "        def __init__(self, counter):\n",
    "            self.a = 0\n",
    "            self.b = 1\n",
    "            self.counter = counter\n",
    "\n",
    "        def fsequence(self, counter):\n",
    "            if self.counter > 0:\n",
    "                print(self.a, end=' ')\n",
    "                self.a, self.b = self.b, self.a+self.b\n",
    "                self.counter -= 1\n",
    "                obj.fsequence(self.counter)\n",
    "\n",
    "    if num > 0:\n",
    "         obj = Recursion(num)\n",
    "         obj.fsequence(num)\n",
    "    else:\n",
    "        print(\"Please enter a number greater than 0\")\n"
   ]
  },
  {
   "cell_type": "code",
   "execution_count": null,
   "metadata": {},
   "outputs": [],
   "source": [
    "# Write a Python Program to Find Factorial of Number Using Recursion"
   ]
  },
  {
   "cell_type": "code",
   "execution_count": 2,
   "metadata": {},
   "outputs": [
    {
     "name": "stdout",
     "output_type": "stream",
     "text": [
      "Enter a number whose factorial you want to find: 5\n",
      "120\n"
     ]
    }
   ],
   "source": [
    "class Factorial:\n",
    "    def __init__(self):\n",
    "        self.result = 1\n",
    "\n",
    "    def factorial(self, check):\n",
    "        self.check = check\n",
    "        if self.check > 0:\n",
    "            self.result *= self.check\n",
    "            self.check -= 1\n",
    "            self.factorial(self.check)\n",
    "        return self.result\n",
    "\n",
    "\n",
    "try:\n",
    "    num = int(input(\"Enter a number whose factorial you want to find: \"))\n",
    "except ValueError:\n",
    "    print(\"Please Enter correct number\")\n",
    "else:\n",
    "    if num >= 0:\n",
    "        obj = Factorial()\n",
    "        print(obj.factorial(num))\n",
    "    else:\n",
    "        print(\"Please enter a number greater than zero.\")\n"
   ]
  },
  {
   "cell_type": "code",
   "execution_count": null,
   "metadata": {},
   "outputs": [],
   "source": [
    "#\tWrite a Python Program to calculate your Body Mass Index?"
   ]
  },
  {
   "cell_type": "code",
   "execution_count": 3,
   "metadata": {},
   "outputs": [
    {
     "name": "stdout",
     "output_type": "stream",
     "text": [
      "Enter Height in cm: 165\n",
      "Enter weight in kg: 74\n",
      "Your BMI is 27.18\n",
      "Overweight\n"
     ]
    }
   ],
   "source": [
    "class Bmi:\n",
    "    def __init__(self):\n",
    "        self.result = 0\n",
    "\n",
    "    def bmi(self, height, weight):\n",
    "        self.weight = weight\n",
    "        self.height = (height/100)\n",
    "        self.result = (self.weight/(self.height*self.height))\n",
    "        return round(self.result, 2)\n",
    "\n",
    "\n",
    "try:\n",
    "    height = float(input(\"Enter Height in cm: \"))\n",
    "    weight = float(input(\"Enter weight in kg: \"))\n",
    "except ValueError:\n",
    "    print(\"Please Enter Numbers not string.\")\n",
    "else:\n",
    "    if height > 0 and weight > 0:\n",
    "        obj = Bmi()\n",
    "        output = obj.bmi(height, weight)\n",
    "        print(f\"Your BMI is {output}\")\n",
    "        if output < 17:\n",
    "            print(\"Moderate Thinness\")\n",
    "        elif 17 <= output < 18.5:\n",
    "            print(\"Mild Thinness\")\n",
    "        elif 18.5 <= output < 25:\n",
    "            print(\"Normal\")\n",
    "        elif 25 <= output < 30:\n",
    "            print(\"Overweight\")\n",
    "        elif output > 30:\n",
    "            print(\"Obese\")\n",
    "    else:\n",
    "        print(\"Height/Weight can not be negative or zero.\")"
   ]
  },
  {
   "cell_type": "code",
   "execution_count": null,
   "metadata": {},
   "outputs": [],
   "source": [
    "# Write a Python Program to calculate the natural logarithm of any number?"
   ]
  },
  {
   "cell_type": "code",
   "execution_count": 4,
   "metadata": {},
   "outputs": [
    {
     "name": "stdout",
     "output_type": "stream",
     "text": [
      "Enter a Number: 2\n",
      "The log of 2.0 is 0.30102999566398114\n"
     ]
    }
   ],
   "source": [
    "import math\n",
    "\n",
    "try:\n",
    "    num = float(input(\"Enter a Number: \"))\n",
    "except ValueError:\n",
    "    print(\"Please enter a correct number.\")\n",
    "else:\n",
    "    result = math.log(num, 10)\n",
    "    print(f\"The log of {num} is {result}\")"
   ]
  },
  {
   "cell_type": "code",
   "execution_count": null,
   "metadata": {},
   "outputs": [],
   "source": [
    "# Write a Python Program for cube sum of first n natural numbers?"
   ]
  },
  {
   "cell_type": "code",
   "execution_count": 5,
   "metadata": {},
   "outputs": [
    {
     "name": "stdout",
     "output_type": "stream",
     "text": [
      "Enter a Number: 125\n",
      "The cube sum of the number is: 62015625.0\n"
     ]
    }
   ],
   "source": [
    "try:\n",
    "    num = int(input(\"Enter a Number: \"))\n",
    "except ValueError:\n",
    "    print(\"Please enter a correct number.\")\n",
    "else:\n",
    "    if num >0:\n",
    "        def cube_sum(num):\n",
    "            sum = 0.0\n",
    "            for i in range(1, num+1):\n",
    "                sum += i*i*i\n",
    "            return sum\n",
    "    else:\n",
    "        print(\"Please enter a number greater than zero\")\n",
    "    print(f\"The cube sum of the number is: {cube_sum(num)}\")"
   ]
  }
 ],
 "metadata": {
  "kernelspec": {
   "display_name": "Python 3",
   "language": "python",
   "name": "python3"
  },
  "language_info": {
   "codemirror_mode": {
    "name": "ipython",
    "version": 3
   },
   "file_extension": ".py",
   "mimetype": "text/x-python",
   "name": "python",
   "nbconvert_exporter": "python",
   "pygments_lexer": "ipython3",
   "version": "3.8.5"
  }
 },
 "nbformat": 4,
 "nbformat_minor": 4
}
