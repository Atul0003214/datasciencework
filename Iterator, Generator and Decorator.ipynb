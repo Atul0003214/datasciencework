{
 "cells": [
  {
   "cell_type": "code",
   "execution_count": 1,
   "id": "d5848626-67c2-4b29-be5f-ebfc8466cb61",
   "metadata": {},
   "outputs": [],
   "source": [
    "#1. Use iter and next method to access all the elements of a given set using while loop"
   ]
  },
  {
   "cell_type": "code",
   "execution_count": 2,
   "id": "b02f0c97-a361-4860-a036-9732644ef21b",
   "metadata": {},
   "outputs": [],
   "source": [
    "testset = {4,5,2,56,333,64,\"apple\"}"
   ]
  },
  {
   "cell_type": "code",
   "execution_count": 8,
   "id": "735c34bc-6c35-4785-8e2b-ad7bead37901",
   "metadata": {},
   "outputs": [
    {
     "name": "stdout",
     "output_type": "stream",
     "text": [
      "64 apple 2 4 5 56 333 "
     ]
    }
   ],
   "source": [
    "i = 0\n",
    "iterobj = iter(testset)\n",
    "while i<=len(testset)-1:\n",
    "    print(next(iterobj),end=\" \")\n",
    "    i+=1"
   ]
  },
  {
   "cell_type": "code",
   "execution_count": 9,
   "id": "3236cb60-8184-4c67-af4e-cfbf0c5d8c8e",
   "metadata": {},
   "outputs": [],
   "source": [
    "# 2. Create a generator to produce first n odd natural numbers"
   ]
  },
  {
   "cell_type": "code",
   "execution_count": 16,
   "id": "f6128066-ef3a-4713-8f24-cb871617ff2c",
   "metadata": {},
   "outputs": [],
   "source": [
    "def generateNaturalNum(n):\n",
    "    noOfOddNumber = 0\n",
    "    count = 1\n",
    "    \n",
    "    while noOfOddNumber<n:\n",
    "        if count%2 !=0:\n",
    "            yield(count)\n",
    "            noOfOddNumber+=1\n",
    "        count+=1\n",
    "        \n",
    "    "
   ]
  },
  {
   "cell_type": "code",
   "execution_count": 20,
   "id": "3c0eac34-524f-4f87-affc-6f6169b7e0a3",
   "metadata": {},
   "outputs": [
    {
     "name": "stdout",
     "output_type": "stream",
     "text": [
      "1 3 5 7 9 11 13 15 17 19 "
     ]
    }
   ],
   "source": [
    "for i in generateNaturalNum(10):\n",
    "    print(i,end=\" \")"
   ]
  },
  {
   "cell_type": "code",
   "execution_count": 21,
   "id": "a7f2b1e6-6219-4d10-86ad-491365234488",
   "metadata": {},
   "outputs": [],
   "source": [
    "# 3. Create a generator to produce first n even natural numbers"
   ]
  },
  {
   "cell_type": "code",
   "execution_count": 25,
   "id": "cc6d079a-8e28-421e-b740-50c03c9d16c2",
   "metadata": {},
   "outputs": [],
   "source": [
    "def evenNumberGenerator(n):\n",
    "    numberOfEvenNumber = 0\n",
    "    count = 1\n",
    "    while numberOfEvenNumber < n:\n",
    "        if count%2 == 0:\n",
    "            yield(count)\n",
    "            numberOfEvenNumber +=1\n",
    "        count+=1"
   ]
  },
  {
   "cell_type": "code",
   "execution_count": 29,
   "id": "c20e01e1-1ca8-4a15-9de4-4e1f6168ce0d",
   "metadata": {},
   "outputs": [
    {
     "name": "stdout",
     "output_type": "stream",
     "text": [
      "2 4 6 8 10 12 14 16 18 20 "
     ]
    }
   ],
   "source": [
    "for i in evenNumberGenerator(10):\n",
    "    print(i,end=\" \")"
   ]
  },
  {
   "cell_type": "code",
   "execution_count": 30,
   "id": "dfa65722-8661-4803-b3fb-a098b43b0d92",
   "metadata": {},
   "outputs": [],
   "source": [
    "# 4. Create a generator to produce squares of first N natural numbers"
   ]
  },
  {
   "cell_type": "code",
   "execution_count": 33,
   "id": "09ac1a69-c4b2-41cd-b7f3-ed3a358435c1",
   "metadata": {},
   "outputs": [],
   "source": [
    "def squrarNumberGenerator(n):\n",
    "    count = 1\n",
    "    while count <= n:\n",
    "        yield(count**2)\n",
    "        count+=1"
   ]
  },
  {
   "cell_type": "code",
   "execution_count": 34,
   "id": "408a7b02-de7d-4064-839f-f8d0d588917c",
   "metadata": {},
   "outputs": [
    {
     "name": "stdout",
     "output_type": "stream",
     "text": [
      "1 4 9 16 25 "
     ]
    }
   ],
   "source": [
    "for i in squrarNumberGenerator(5):\n",
    "    print(i,end=\" \")"
   ]
  },
  {
   "cell_type": "code",
   "execution_count": 35,
   "id": "130d73d9-293f-4171-a726-2eb8bbfe625e",
   "metadata": {},
   "outputs": [],
   "source": [
    "# 5. Create a generator to produce first n terms of Fibonacci series"
   ]
  },
  {
   "cell_type": "code",
   "execution_count": 55,
   "id": "ce4c6e00-5398-4af5-930d-d8ac8a22223c",
   "metadata": {},
   "outputs": [],
   "source": [
    "def fibGenerator(n):\n",
    "    a = 0\n",
    "    b = 1\n",
    "    count = 1\n",
    "    while count<=n:\n",
    "        yield(a)\n",
    "        c = a+b\n",
    "        a = b\n",
    "        b = c\n",
    "         \n",
    "        count+=1\n",
    "    "
   ]
  },
  {
   "cell_type": "code",
   "execution_count": 57,
   "id": "ad5113d1-cf53-45f0-a6c5-830526091823",
   "metadata": {},
   "outputs": [
    {
     "name": "stdout",
     "output_type": "stream",
     "text": [
      "0 1 1 2 3 5 8 13 21 34 "
     ]
    }
   ],
   "source": [
    "for i in fibGenerator(10):\n",
    "    print(i,end=\" \")"
   ]
  },
  {
   "cell_type": "code",
   "execution_count": 1,
   "id": "5e67c10f-2ca1-41ed-8978-373ce5e0fd0e",
   "metadata": {},
   "outputs": [],
   "source": [
    "# 6. Create a generator to produce first n prime numbers"
   ]
  },
  {
   "cell_type": "code",
   "execution_count": 20,
   "id": "89b4e524-b969-4cdb-9a25-ed491bb3c379",
   "metadata": {},
   "outputs": [],
   "source": [
    "def primGenerator(n):\n",
    "    primCount = 1\n",
    "    num = 1\n",
    "    while primCount <= n: \n",
    "        factCounter = 0\n",
    "        for i in range(num):\n",
    "            if (num%(i+1)) == 0:\n",
    "                factCounter += 1\n",
    "        if factCounter == 2:\n",
    "            yield(num)\n",
    "            primCount +=1\n",
    "        num+=1              "
   ]
  },
  {
   "cell_type": "code",
   "execution_count": 24,
   "id": "b74a9808-7f08-490d-8250-484bc2d481f8",
   "metadata": {},
   "outputs": [
    {
     "name": "stdout",
     "output_type": "stream",
     "text": [
      "2 3 5 7 11 13 17 19 23 29 "
     ]
    }
   ],
   "source": [
    "for i in primGenerator(10):\n",
    "    print(i, end=\" \" )"
   ]
  },
  {
   "cell_type": "code",
   "execution_count": 26,
   "id": "33065bfa-3f9e-4ee9-b1ea-d2372e1df60f",
   "metadata": {},
   "outputs": [],
   "source": [
    "# 7. Create an endless iterator using generator method to produce terms of Fibonacci\n",
    "# series"
   ]
  },
  {
   "cell_type": "code",
   "execution_count": 32,
   "id": "b9921c0d-df14-4c44-96f3-23ee17335038",
   "metadata": {},
   "outputs": [],
   "source": [
    "def endlessFibGenerarator():\n",
    "    a,b = 0,1\n",
    "    while True:\n",
    "        yield(a)\n",
    "        c = a+b\n",
    "        a,b = b,c"
   ]
  },
  {
   "cell_type": "code",
   "execution_count": 38,
   "id": "367b6238-7563-46e6-9a19-217590b64af5",
   "metadata": {},
   "outputs": [
    {
     "name": "stdout",
     "output_type": "stream",
     "text": [
      "0 1 1 "
     ]
    }
   ],
   "source": [
    "fibGen = endlessFibGenerarator()\n",
    "for i in range(3):\n",
    "    print(next(fibGen),end = \" \")"
   ]
  },
  {
   "cell_type": "code",
   "execution_count": 39,
   "id": "929096f3-7577-4af4-8fe9-001a6eb28c68",
   "metadata": {},
   "outputs": [],
   "source": [
    "# 8. Create an endless iterator using generator method to produce Prime numbers"
   ]
  },
  {
   "cell_type": "code",
   "execution_count": 51,
   "id": "4103fc79-3ef3-4e30-a756-6cf47e6d5cf2",
   "metadata": {},
   "outputs": [],
   "source": [
    "def endlessPrim():\n",
    "    num= 1\n",
    "    while True:\n",
    "        factCount=0\n",
    "        for i in range(num):\n",
    "            if (num%(i+1))==0:\n",
    "                factCount += 1\n",
    "        if factCount == 2:\n",
    "            yield(num)\n",
    "        num +=1\n",
    "                "
   ]
  },
  {
   "cell_type": "code",
   "execution_count": 52,
   "id": "49c239f5-a750-4817-aa8f-0fc2f0de1b9b",
   "metadata": {},
   "outputs": [
    {
     "name": "stdout",
     "output_type": "stream",
     "text": [
      "2 3 5 7 11 13 "
     ]
    }
   ],
   "source": [
    "primIter = endlessPrim()\n",
    "for i in range(6):\n",
    "    print(next(primIter),end=\" \")"
   ]
  },
  {
   "cell_type": "raw",
   "id": "85387de1-5acd-45c3-913b-79bda6390f4f",
   "metadata": {},
   "source": [
    "'''\n",
    "9. Define a function which takes lengths of three sides of a triangle as arguments and\n",
    "display the perimeter or triangle. Define and apply a decorator which checks for the\n",
    "validity of the triangle on the basis of lengths of the side. This makes the perimeter to\n",
    "be displayed when the triangle can exist with the given lengths of the sides.\n",
    "'''"
   ]
  },
  {
   "cell_type": "code",
   "execution_count": 42,
   "id": "354cc899-0cb8-4c0a-9394-bd22a11f1248",
   "metadata": {},
   "outputs": [
    {
     "name": "stdout",
     "output_type": "stream",
     "text": [
      "18\n"
     ]
    }
   ],
   "source": [
    "def decorPerimeter(func):\n",
    "    def validateTriangle(a,b,c):\n",
    "        if ((a+b)>c):\n",
    "            return func(a,b,c)\n",
    "        else:\n",
    "            return \"The triangle is not possible to make\"\n",
    "    return validateTriangle\n",
    "\n",
    "\n",
    "\n",
    "@decorPerimeter\n",
    "def calPerimeter(a,b,c):\n",
    "    return a+b+c\n",
    "\n",
    " \n",
    "print(calPerimeter(7,3,8))"
   ]
  },
  {
   "cell_type": "code",
   "execution_count": 44,
   "id": "918d8113-e3d5-4198-a063-75845e0d03fa",
   "metadata": {},
   "outputs": [],
   "source": [
    "# 10. Define a function which calculates HCF of two numbers. Define and apply a\n",
    "# decorator to check whether two given numbers are co-prime or not."
   ]
  },
  {
   "cell_type": "code",
   "execution_count": 57,
   "id": "417c472b-d524-4503-8ea9-c0c2ce7c29c0",
   "metadata": {},
   "outputs": [],
   "source": [
    "def calHCF(a,b):\n",
    "    fact1,fact2 = [],[]\n",
    "    for i in range(a):\n",
    "        if a%(i+1) == 0:\n",
    "            fact1.append(i+1)\n",
    "    for i in range(b):\n",
    "        if b%(i+1) == 0:\n",
    "            fact2.append(i+1)\n",
    "    def filterNum(c):\n",
    "        if c in fact2:\n",
    "            return True\n",
    "        \n",
    "    data = filter(filterNum,fact1)\n",
    "    return sorted(data, reverse=True)[0]\n",
    "            "
   ]
  },
  {
   "cell_type": "code",
   "execution_count": 62,
   "id": "eef619d8-6621-4b7e-893e-c3f2df4a9a7b",
   "metadata": {},
   "outputs": [
    {
     "data": {
      "text/plain": [
       "10"
      ]
     },
     "execution_count": 62,
     "metadata": {},
     "output_type": "execute_result"
    }
   ],
   "source": [
    "calHCF(770,360)"
   ]
  },
  {
   "cell_type": "code",
   "execution_count": 75,
   "id": "968452c2-359e-47db-9c55-20cfd552814f",
   "metadata": {},
   "outputs": [
    {
     "data": {
      "text/plain": [
       "1"
      ]
     },
     "execution_count": 75,
     "metadata": {},
     "output_type": "execute_result"
    }
   ],
   "source": [
    "calHCF(144,721)"
   ]
  },
  {
   "cell_type": "code",
   "execution_count": 79,
   "id": "61c0c7c5-3f31-49f0-a50e-672fd4a0b5e0",
   "metadata": {},
   "outputs": [
    {
     "name": "stdout",
     "output_type": "stream",
     "text": [
      "The numbers are co prime\n"
     ]
    }
   ],
   "source": [
    "def validateCoprim(cal_hcf):\n",
    "    def validate(a,b):\n",
    "        factor = cal_hcf(a,b)\n",
    "        if factor == 1:\n",
    "            return \"The numbers are co prime\"\n",
    "        else:\n",
    "            return factor\n",
    "    return validate\n",
    "\n",
    "\n",
    "@validateCoprim\n",
    "def calHCF(a,b):\n",
    "    fact1,fact2 = [],[]\n",
    "    [fact1.append(i+1) for i in range(a) if a%(i+1) == 0]       \n",
    "    [fact2.append(i+1) for i in range(b) if b%(i+1) == 0]\n",
    "    return sorted(filter(lambda x: x in fact2,fact1),reverse=True)[0]\n",
    "\n",
    "\n",
    "print(calHCF(2,33))"
   ]
  },
  {
   "cell_type": "code",
   "execution_count": null,
   "id": "6460f8dd-4623-44b7-94d2-7a8ccd26007d",
   "metadata": {},
   "outputs": [],
   "source": []
  }
 ],
 "metadata": {
  "kernelspec": {
   "display_name": "Python 3 (ipykernel)",
   "language": "python",
   "name": "python3"
  },
  "language_info": {
   "codemirror_mode": {
    "name": "ipython",
    "version": 3
   },
   "file_extension": ".py",
   "mimetype": "text/x-python",
   "name": "python",
   "nbconvert_exporter": "python",
   "pygments_lexer": "ipython3",
   "version": "3.9.12"
  }
 },
 "nbformat": 4,
 "nbformat_minor": 5
}
