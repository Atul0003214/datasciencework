{
 "cells": [
  {
   "cell_type": "markdown",
   "id": "28633b67-bf56-457f-8e78-8357ad5db72b",
   "metadata": {},
   "source": [
    "Write a recursive python function to print first N natural numbers."
   ]
  },
  {
   "cell_type": "code",
   "execution_count": 10,
   "id": "5db6de01-2176-4479-a9e5-849355ed519b",
   "metadata": {},
   "outputs": [
    {
     "name": "stdout",
     "output_type": "stream",
     "text": [
      "1 2 3 4 5 "
     ]
    }
   ],
   "source": [
    "def printNatural(n):\n",
    "    if n==0:\n",
    "        return 1\n",
    "    else:\n",
    "        printNatural(n-1)\n",
    "        print(n,end=\" \")\n",
    "        \n",
    "\n",
    "printNatural(5)"
   ]
  },
  {
   "cell_type": "markdown",
   "id": "a579dd7f-7135-4d3f-b840-61161e835e4c",
   "metadata": {},
   "source": [
    "2. Write a recursive python function to print first N natural numbers in reverse order"
   ]
  },
  {
   "cell_type": "code",
   "execution_count": 11,
   "id": "6d04acdd-c2e5-42de-902e-9bb522c4b450",
   "metadata": {},
   "outputs": [
    {
     "name": "stdout",
     "output_type": "stream",
     "text": [
      "5 4 3 2 1 "
     ]
    }
   ],
   "source": [
    "def printNatural(n):\n",
    "    if n==0:\n",
    "        return 1\n",
    "    else:\n",
    "        print(n,end=\" \")\n",
    "        printNatural(n-1)\n",
    "        \n",
    "\n",
    "printNatural(5)"
   ]
  },
  {
   "cell_type": "markdown",
   "id": "1f8ae0cc-ed6b-43e9-8971-d47a49c5240c",
   "metadata": {},
   "source": [
    "3. Write a recursive python function to print first N odd natural numbers"
   ]
  },
  {
   "cell_type": "code",
   "execution_count": 29,
   "id": "9bb6dcf1-05ab-4661-8693-e17fe9612037",
   "metadata": {},
   "outputs": [
    {
     "name": "stdin",
     "output_type": "stream",
     "text": [
      "Enter a number to print odd Natural numbers 10\n"
     ]
    },
    {
     "name": "stdout",
     "output_type": "stream",
     "text": [
      "1\n",
      "3 5 7 9 11 13 15 17 19 "
     ]
    }
   ],
   "source": [
    "def printOdd(n):\n",
    "    if n==1:\n",
    "        print(1)\n",
    "    else:\n",
    "        printOdd(n-2)\n",
    "        print(n,end=\" \")\n",
    "        \n",
    "        \n",
    "num = eval(input(\"Enter a number to print odd Natural numbers\"))\n",
    "printOdd(2*num-1)"
   ]
  },
  {
   "cell_type": "markdown",
   "id": "870da7c8-fc44-4123-9350-cd05f843bbaf",
   "metadata": {},
   "source": [
    "4. Write a recursive python function to print first N odd natural numbers in reverse order"
   ]
  },
  {
   "cell_type": "code",
   "execution_count": 30,
   "id": "324ff4e0-99a3-47d2-a5fa-09955bd1c1eb",
   "metadata": {},
   "outputs": [
    {
     "name": "stdin",
     "output_type": "stream",
     "text": [
      "Enter a number to print odd Natural numbers 10\n"
     ]
    },
    {
     "name": "stdout",
     "output_type": "stream",
     "text": [
      "19 17 15 13 11 9 7 5 3 1\n"
     ]
    }
   ],
   "source": [
    "def printOdd(n):\n",
    "    if n==1:\n",
    "        print(1)\n",
    "    else:\n",
    "        print(n,end=\" \")\n",
    "        printOdd(n-2)\n",
    "        \n",
    "num = eval(input(\"Enter a number to print odd Natural numbers\"))\n",
    "printOdd(2*num-1)"
   ]
  },
  {
   "cell_type": "markdown",
   "id": "140797e9-cfb7-446a-ac64-25f62a56d4cc",
   "metadata": {},
   "source": [
    "5. Write a recursive python function to print first N even natural numbers."
   ]
  },
  {
   "cell_type": "code",
   "execution_count": 35,
   "id": "f18d9cdf-a874-4c3f-892b-7b30953bb607",
   "metadata": {},
   "outputs": [
    {
     "name": "stdin",
     "output_type": "stream",
     "text": [
      "Enter a number to print first N even Natural numbers:  10\n"
     ]
    },
    {
     "name": "stdout",
     "output_type": "stream",
     "text": [
      "2 4 6 8 10 12 14 16 18 20 "
     ]
    }
   ],
   "source": [
    "def printEven(n):\n",
    "    if n==0:\n",
    "        pass\n",
    "    else:\n",
    "        printEven(n-2)\n",
    "        print(n,end=\" \")\n",
    "        \n",
    "num = eval(input(\"Enter a number to print first N even Natural numbers: \"))\n",
    "printEven(2*num)"
   ]
  },
  {
   "cell_type": "markdown",
   "id": "668bc6b5-a66d-4d0a-a552-e3858368f45e",
   "metadata": {},
   "source": [
    "6. Write a recursive python function to print first N even natural numbers in reverse\n",
    "order."
   ]
  },
  {
   "cell_type": "code",
   "execution_count": 36,
   "id": "6bbfd27e-b076-43ed-b7c1-9f0ca9cc251a",
   "metadata": {},
   "outputs": [
    {
     "name": "stdin",
     "output_type": "stream",
     "text": [
      "Enter a number to print first N even Natural numbers:  10\n"
     ]
    },
    {
     "name": "stdout",
     "output_type": "stream",
     "text": [
      "20 18 16 14 12 10 8 6 4 2 "
     ]
    }
   ],
   "source": [
    "def printEven(n):\n",
    "    if n==0:\n",
    "        pass\n",
    "    else:\n",
    "        print(n,end=\" \")\n",
    "        printEven(n-2)\n",
    "\n",
    "        \n",
    "num = eval(input(\"Enter a number to print first N even Natural numbers: \"))\n",
    "printEven(2*num)"
   ]
  },
  {
   "cell_type": "markdown",
   "id": "9efaa25d-7969-42a4-915b-cd4cad86cb20",
   "metadata": {},
   "source": [
    "7. Write a recursive python function to print squares of first N natural numbers"
   ]
  },
  {
   "cell_type": "code",
   "execution_count": 40,
   "id": "16e0d960-a66f-428b-8671-a922de7f65d6",
   "metadata": {},
   "outputs": [
    {
     "name": "stdout",
     "output_type": "stream",
     "text": [
      "1 4 9 16 25 "
     ]
    }
   ],
   "source": [
    "def printSquar(n):\n",
    "    if n==0:\n",
    "        return 1\n",
    "    else:\n",
    "        printSquar(n-1)\n",
    "        print(n**2,end=\" \")\n",
    "printSquar(5)"
   ]
  },
  {
   "cell_type": "markdown",
   "id": "aaeae4c1-58ca-447f-8972-24e1631051f8",
   "metadata": {},
   "source": [
    "8. Write a recursive python function to print cubes of first N natural numbers"
   ]
  },
  {
   "cell_type": "code",
   "execution_count": 42,
   "id": "031b3ecc-8658-490f-acc4-bffb73cd7014",
   "metadata": {},
   "outputs": [
    {
     "name": "stdout",
     "output_type": "stream",
     "text": [
      "1 8 27 64 125 216 343 "
     ]
    }
   ],
   "source": [
    "def printCube(n):\n",
    "    if n==0:\n",
    "        return 1\n",
    "    else:\n",
    "        printCube(n-1)\n",
    "        print(n**3,end=\" \")\n",
    "printCube(7)"
   ]
  },
  {
   "cell_type": "markdown",
   "id": "8b808532-e9e5-4d85-93f9-29027faacd4c",
   "metadata": {},
   "source": [
    "9. Write a recursive python function to print first N multiples of a given number."
   ]
  },
  {
   "cell_type": "code",
   "execution_count": 47,
   "id": "6d749f5f-ed66-43b6-9704-d6a433ca27ce",
   "metadata": {},
   "outputs": [
    {
     "name": "stdout",
     "output_type": "stream",
     "text": [
      "6 12 18 24 30 36 42 48 54 60 66 72 78 84 90 96 102 108 114 120 "
     ]
    }
   ],
   "source": [
    "def printNMultiple(n):\n",
    "    if n ==0:\n",
    "        return 1\n",
    "    else:\n",
    "        printNMultiple(n-givenNumber)\n",
    "        print(n,end=\" \")\n",
    "\n",
    "givenNumber = 6\n",
    "number_of_multiple = 20\n",
    "printNMultiple(givenNumber*number_of_multiple)\n",
    "                       "
   ]
  },
  {
   "cell_type": "markdown",
   "id": "002e0720-27b9-4712-b7d1-68efa9821de8",
   "metadata": {},
   "source": [
    "10. Write a recursive python function to print a number in reverse order."
   ]
  },
  {
   "cell_type": "code",
   "execution_count": 51,
   "id": "a1e803e5-f709-40b1-a1e0-64bb1a5f4243",
   "metadata": {},
   "outputs": [
    {
     "name": "stdout",
     "output_type": "stream",
     "text": [
      "764321"
     ]
    }
   ],
   "source": [
    "def printReverse(n):\n",
    "    if n==0:\n",
    "        pass\n",
    "    else:\n",
    "        print(n%10,end=\"\")\n",
    "        printReverse(int(n/10))\n",
    "printReverse(123467)"
   ]
  },
  {
   "cell_type": "code",
   "execution_count": null,
   "id": "742cac6c-b190-4bbd-b73b-2f3f98d70606",
   "metadata": {},
   "outputs": [],
   "source": []
  }
 ],
 "metadata": {
  "kernelspec": {
   "display_name": "Python 3 (ipykernel)",
   "language": "python",
   "name": "python3"
  },
  "language_info": {
   "codemirror_mode": {
    "name": "ipython",
    "version": 3
   },
   "file_extension": ".py",
   "mimetype": "text/x-python",
   "name": "python",
   "nbconvert_exporter": "python",
   "pygments_lexer": "ipython3",
   "version": "3.9.12"
  }
 },
 "nbformat": 4,
 "nbformat_minor": 5
}
