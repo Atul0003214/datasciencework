{
 "cells": [
  {
   "cell_type": "code",
   "execution_count": 1,
   "id": "44b5366d",
   "metadata": {},
   "outputs": [],
   "source": [
    "# Write a Python program to find words which are greater than given length k?"
   ]
  },
  {
   "cell_type": "code",
   "execution_count": 3,
   "id": "4d760e04",
   "metadata": {},
   "outputs": [
    {
     "name": "stdout",
     "output_type": "stream",
     "text": [
      "Enter the paragraph: Contrary to popular belief, Lorem Ipsum is not simply random text. It has roots in a piece of classical Latin literature from 45 BC, making it over 2000 years old. Richard McClintock, a Latin professor at Hampden-Sydney College in Virginia, looked up one of the more obscure Latin words, consectetur, from a Lorem Ipsum passage, and going through the cites of the word in classical literature, discovered the undoubtable source. Lorem Ipsum comes from sections 1.10.32 and 1.10.33 of \"de Finibus Bonorum et Malorum\" (The Extremes of Good and Evil) by Cicero, written in 45 BC. This book is a treatise on the theory of ethics, very popular during the Renaissance. The first line of Lorem Ipsum, \"Lorem ipsum dolor sit amet..\", comes from a line in section.\n",
      "Enter the length of word to find word greater than that length: 4\n",
      "Words greater than the given length is ['Contrary', 'popular', 'belief,', 'Lorem', 'Ipsum', 'simply', 'random', 'text.', 'roots', 'piece', 'classical', 'Latin', 'literature', 'making', 'years', 'Richard', 'McClintock,', 'Latin', 'professor', 'Hampden-Sydney', 'College', 'Virginia,', 'looked', 'obscure', 'Latin', 'words,', 'consectetur,', 'Lorem', 'Ipsum', 'passage,', 'going', 'through', 'cites', 'classical', 'literature,', 'discovered', 'undoubtable', 'source.', 'Lorem', 'Ipsum', 'comes', 'sections', '1.10.32', '1.10.33', 'Finibus', 'Bonorum', 'Malorum\"', 'Extremes', 'Evil)', 'Cicero,', 'written', 'treatise', 'theory', 'ethics,', 'popular', 'during', 'Renaissance.', 'first', 'Lorem', 'Ipsum,', '\"Lorem', 'ipsum', 'dolor', 'amet..\",', 'comes', 'section.']\n"
     ]
    }
   ],
   "source": [
    "class Word_Filter:\n",
    "    def __init__(self, paragraph, wordlength):\n",
    "        self.para = paragraph\n",
    "        self.length = wordlength\n",
    "\n",
    "    def word_filter(self):\n",
    "        self.filtered_word = []\n",
    "        word_list = self.para.split(\" \")\n",
    "        for i in word_list:\n",
    "            if len(i)>self.length:\n",
    "                self.filtered_word.append(i)\n",
    "\n",
    "        return self.filtered_word\n",
    "\n",
    "\n",
    "try:\n",
    "    paragraph = input(\"Enter the paragraph: \")\n",
    "    wordlength = int(input(\"Enter the length of word to find word greater than that length: \"))\n",
    "    a = Word_Filter(paragraph, wordlength)\n",
    "    print(f\"Words greater than the given length is {a.word_filter()}\")\n",
    "except Exception as e:\n",
    "    print(e)\n"
   ]
  },
  {
   "cell_type": "code",
   "execution_count": 4,
   "id": "a42247eb",
   "metadata": {},
   "outputs": [],
   "source": [
    "# Write a Python program for removing i-th character from a string?"
   ]
  },
  {
   "cell_type": "code",
   "execution_count": 6,
   "id": "03919500",
   "metadata": {},
   "outputs": [
    {
     "name": "stdout",
     "output_type": "stream",
     "text": [
      "Enter the String: Lorem Ipsum is therefore always free from repetition, injected humour, or non-characteristic words\n",
      "Enter the i-th character that has to be removed: 8\n",
      "Word after removing the index is Lorem Isum is therefore always free from repetition, injected humour, or non-characteristic words\n"
     ]
    }
   ],
   "source": [
    "class Character_Filter:\n",
    "    def __init__(self, string1, index):\n",
    "        self.para = string1\n",
    "        self.index = index\n",
    "\n",
    "    def character_filter(self):\n",
    "        fstring = \"\"\n",
    "        try:\n",
    "            for i in range(len(self.para)):\n",
    "                if i == self.index-1:\n",
    "                    continue\n",
    "                else:\n",
    "                    fstring = fstring+self.para[i]\n",
    "        except Exception as e:\n",
    "            print(e)\n",
    "\n",
    "        return fstring\n",
    "\n",
    "\n",
    "\n",
    "try:\n",
    "    raw_string = input(\"Enter the String: \")\n",
    "    serach_index = int(input(\"Enter the i-th character that has to be removed: \"))\n",
    "    if serach_index > 0:\n",
    "        a = Character_Filter(raw_string, serach_index)\n",
    "        print(f\"Word after removing the index is {a.character_filter()}\")\n",
    "    else:\n",
    "        print(\"Please enter only integer greater than 0\")\n",
    "except ValueError:\n",
    "    print(\"Please enter only integer\")"
   ]
  },
  {
   "cell_type": "code",
   "execution_count": 7,
   "id": "db14a4f5",
   "metadata": {},
   "outputs": [],
   "source": [
    "# write a Python program to split and join a string?"
   ]
  },
  {
   "cell_type": "code",
   "execution_count": 10,
   "id": "b7962462",
   "metadata": {},
   "outputs": [
    {
     "name": "stdout",
     "output_type": "stream",
     "text": [
      "Enter the String: Lorem Ipsum is therefore always free from repetition, injected humour, or non-characteristic words\n",
      "Splited Sting is: ['L', 'o', 'r', 'e', 'm', ' ', 'I', 'p', 's', 'u', 'm', ' ', 'i', 's', ' ', 't', 'h', 'e', 'r', 'e', 'f', 'o', 'r', 'e', ' ', 'a', 'l', 'w', 'a', 'y', 's', ' ', 'f', 'r', 'e', 'e', ' ', 'f', 'r', 'o', 'm', ' ', 'r', 'e', 'p', 'e', 't', 'i', 't', 'i', 'o', 'n', ',', ' ', 'i', 'n', 'j', 'e', 'c', 't', 'e', 'd', ' ', 'h', 'u', 'm', 'o', 'u', 'r', ',', ' ', 'o', 'r', ' ', 'n', 'o', 'n', '-', 'c', 'h', 'a', 'r', 'a', 'c', 't', 'e', 'r', 'i', 's', 't', 'i', 'c', ' ', 'w', 'o', 'r', 'd', 's']\n",
      "Joined string is: Lorem Ipsum is therefore always free from repetition, injected humour, or non-characteristic words\n"
     ]
    }
   ],
   "source": [
    "class Split_String:\n",
    "    def __init__(self, raw_str):\n",
    "        self.raw_str = raw_str\n",
    "\n",
    "\n",
    "    def split_string(self):\n",
    "        self.raw_str = list(self.raw_str)\n",
    "        return list(self.raw_str)\n",
    "\n",
    "    def join_str(self):\n",
    "        return \"\".join(self.raw_str)\n",
    "\n",
    "\n",
    "try:\n",
    "    raw_string = input(\"Enter the String: \")\n",
    "    a = Split_String(raw_string)\n",
    "    print(f\"Splited Sting is: {a.split_string()}\")\n",
    "    print(f\"Joined string is: {a.join_str()}\")\n",
    "except Exception as e:\n",
    "    print(e)"
   ]
  },
  {
   "cell_type": "code",
   "execution_count": 11,
   "id": "b67d3f86",
   "metadata": {},
   "outputs": [],
   "source": [
    "# Write a Python to check if a given string is binary string or not?"
   ]
  },
  {
   "cell_type": "code",
   "execution_count": 12,
   "id": "a130bda2",
   "metadata": {},
   "outputs": [
    {
     "name": "stdout",
     "output_type": "stream",
     "text": [
      "Enter the String: 010111\n",
      "The string is binary string\n"
     ]
    }
   ],
   "source": [
    "class Binary_Checker:\n",
    "    def __init__(self, data):\n",
    "        self.data = data\n",
    "\n",
    "    def binary_checker(self):\n",
    "        sample = \"01\"\n",
    "        flag = 0\n",
    "        for i in self.data:\n",
    "            if i in sample:\n",
    "                continue\n",
    "            else:\n",
    "                flag = 1\n",
    "                break\n",
    "        if flag == 0:\n",
    "            return \"The string is binary string\"\n",
    "        else:\n",
    "            return \"The string is not binary string\"\n",
    "\n",
    "\n",
    "\n",
    "data = input(\"Enter the String: \")\n",
    "a = Binary_Checker(data)\n",
    "print(a.binary_checker())"
   ]
  },
  {
   "cell_type": "code",
   "execution_count": 13,
   "id": "e63f01c6",
   "metadata": {},
   "outputs": [],
   "source": [
    "# Write a Python program to find uncommon words from two Strings?"
   ]
  },
  {
   "cell_type": "code",
   "execution_count": 15,
   "id": "14d6a19e",
   "metadata": {},
   "outputs": [
    {
     "name": "stdout",
     "output_type": "stream",
     "text": [
      "Enter the first String: All the Lorem Ipsum generators on the Internet tend to repeat predefined chunks as necessary, making this the first true generator on the Internet\n",
      "Enter the Second String: It uses a dictionary of over 200 Latin words, combined with a handful of model sentence structures, to generate Lorem Ipsum which looks reasonable.\n",
      "The uncommon words are ['All', 'the', 'generators', 'on', 'the', 'Internet', 'tend', 'repeat', 'predefined', 'chunks', 'as', 'necessary,', 'making', 'this', 'the', 'first', 'true', 'generator', 'on', 'the', 'Internet', 'It', 'uses', 'a', 'dictionary', 'of', 'over', '200', 'Latin', 'words,', 'combined', 'with', 'a', 'handful', 'of', 'model', 'sentence', 'structures,', 'generate', 'which', 'looks', 'reasonable.']\n"
     ]
    }
   ],
   "source": [
    "class Unique_Word_Checker:\n",
    "    def __init__(self, data1, data2):\n",
    "        self.data1 = data1.split(\" \")\n",
    "        self.data2 = data2.split(\" \")\n",
    "    def unique_word_checker(self):\n",
    "        unique_word_list = []\n",
    "        for i in self.data1:\n",
    "            if i in self.data2:\n",
    "                continue\n",
    "            else:\n",
    "                unique_word_list.append(i)\n",
    "        for i in self.data2:\n",
    "            if i in self.data1:\n",
    "                continue\n",
    "            else:\n",
    "                unique_word_list.append(i)\n",
    "\n",
    "        return unique_word_list\n",
    "\n",
    "\n",
    "\n",
    "\n",
    "data1 = input(\"Enter the first String: \")\n",
    "data2 = input(\"Enter the Second String: \")\n",
    "a = Unique_Word_Checker(data1, data2)\n",
    "print(f\"The uncommon words are {a.unique_word_checker()}\")"
   ]
  },
  {
   "cell_type": "code",
   "execution_count": 16,
   "id": "e70d20a8",
   "metadata": {},
   "outputs": [],
   "source": [
    "# Write a Python to find all duplicate characters in string?"
   ]
  },
  {
   "cell_type": "code",
   "execution_count": 17,
   "id": "5705d4b3",
   "metadata": {},
   "outputs": [
    {
     "name": "stdout",
     "output_type": "stream",
     "text": [
      "Enter the String: It uses a dictionary of over 200 Latin words, combined with a handful of model sentence structures, to generate Lorem Ipsum which looks reasonable.\n",
      "Duplicate characters are:  ['I', 't', 'u', 's', 'e', 'a', 'd', 'i', 'c', 'o', 'n', 'r', 'f', '0', 'L', 'w', ',', 'm', 'b', 'h', 'l']\n"
     ]
    }
   ],
   "source": [
    "class Duplicate_Finder:\n",
    "    def __init__(self, raw_str):\n",
    "        self.raw_str = raw_str\n",
    "        \"\".isspace()\n",
    "\n",
    "\n",
    "    def deplicate_finder(self):\n",
    "        self.raw_str = list(self.raw_str)\n",
    "        self.collector = {}\n",
    "        self.counter = 1\n",
    "        self.duplicate_list = []\n",
    "        for i in self.raw_str:\n",
    "            if not i.isspace():\n",
    "                if i in self.collector.keys():\n",
    "                    self.collector[i] = self.collector.get(i) + 1\n",
    "                else:\n",
    "                    self.collector[i] = self.counter\n",
    "\n",
    "        for keys, val in self.collector.items():\n",
    "            if val > 1:\n",
    "                self.duplicate_list.append(keys)\n",
    "\n",
    "        return self.duplicate_list\n",
    "\n",
    "    def join_str(self):\n",
    "        print(f\"Before Join {self.raw_str}\")\n",
    "        return \"\".join(self.raw_str)\n",
    "\n",
    "\n",
    "try:\n",
    "    raw_string = input(\"Enter the String: \")\n",
    "    a = Duplicate_Finder(raw_string)\n",
    "    print(f\"Duplicate characters are:  {a.deplicate_finder()}\")\n",
    "except Exception as e:\n",
    "    print(e)"
   ]
  },
  {
   "cell_type": "code",
   "execution_count": 18,
   "id": "33d976a5",
   "metadata": {},
   "outputs": [],
   "source": [
    "# Write a Python Program to check if a string contains any special character?"
   ]
  },
  {
   "cell_type": "code",
   "execution_count": 19,
   "id": "51bc9d02",
   "metadata": {},
   "outputs": [
    {
     "name": "stdout",
     "output_type": "stream",
     "text": [
      "Enter the String: this @ is % to ^ test* sp!ecial cha^%racter\n",
      "The String contains special character.\n"
     ]
    }
   ],
   "source": [
    "class Special_Character_Finder:\n",
    "\n",
    "    special_char = r\"!”#$%&’()*+,-./:;<=>?@[\\]^_`{|}~\"\n",
    "\n",
    "    def __init__(self, data):\n",
    "        self.data = list(data)\n",
    "\n",
    "    def special_character_finder(self):\n",
    "        self.result = False\n",
    "        for i in self.data:\n",
    "            if self.special_char.__contains__(i):\n",
    "                self.result = True\n",
    "                break\n",
    "        if self.result:\n",
    "            return \"The String contains special character.\"\n",
    "        else:\n",
    "            return \"The String doesnt contains special character.\"\n",
    "\n",
    "\n",
    "try:\n",
    "    raw_string = input(\"Enter the String: \")\n",
    "    a = Special_Character_Finder(raw_string)\n",
    "    print(a.special_character_finder())\n",
    "except Exception as e:\n",
    "    print(e)"
   ]
  },
  {
   "cell_type": "code",
   "execution_count": null,
   "id": "10188bb1",
   "metadata": {},
   "outputs": [],
   "source": []
  }
 ],
 "metadata": {
  "kernelspec": {
   "display_name": "Python 3",
   "language": "python",
   "name": "python3"
  },
  "language_info": {
   "codemirror_mode": {
    "name": "ipython",
    "version": 3
   },
   "file_extension": ".py",
   "mimetype": "text/x-python",
   "name": "python",
   "nbconvert_exporter": "python",
   "pygments_lexer": "ipython3",
   "version": "3.8.8"
  }
 },
 "nbformat": 4,
 "nbformat_minor": 5
}
