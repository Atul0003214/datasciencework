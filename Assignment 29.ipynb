{
 "cells": [
  {
   "cell_type": "raw",
   "id": "0aade27d",
   "metadata": {},
   "source": [
    "'''\n",
    "1. Write a Python script to print the following status of a file:\n",
    "a. Whether a file is read only\n",
    "b. Whether a file is closed or not\n",
    "c. Which file opening mode is used\n",
    "d. Name of the file\n",
    "'''"
   ]
  },
  {
   "cell_type": "code",
   "execution_count": 2,
   "id": "01dd593e",
   "metadata": {},
   "outputs": [],
   "source": [
    "f = open(\"test.txt\",\"r\")"
   ]
  },
  {
   "cell_type": "code",
   "execution_count": 14,
   "id": "d92cbe91",
   "metadata": {},
   "outputs": [
    {
     "name": "stdout",
     "output_type": "stream",
     "text": [
      "The mode of the file is 'r'\n"
     ]
    }
   ],
   "source": [
    "print(f\"The mode of the file is '{f.mode}'\")"
   ]
  },
  {
   "cell_type": "code",
   "execution_count": 4,
   "id": "a6b0613e",
   "metadata": {},
   "outputs": [
    {
     "data": {
      "text/plain": [
       "False"
      ]
     },
     "execution_count": 4,
     "metadata": {},
     "output_type": "execute_result"
    }
   ],
   "source": [
    "f.closed"
   ]
  },
  {
   "cell_type": "code",
   "execution_count": 11,
   "id": "07a10aff",
   "metadata": {},
   "outputs": [
    {
     "name": "stdout",
     "output_type": "stream",
     "text": [
      "The name of the file is 'test.txt'\n"
     ]
    }
   ],
   "source": [
    "print(f\"The name of the file is '{f.name}'\")"
   ]
  },
  {
   "cell_type": "code",
   "execution_count": 8,
   "id": "57dc77f7",
   "metadata": {},
   "outputs": [
    {
     "data": {
      "text/plain": [
       "True"
      ]
     },
     "execution_count": 8,
     "metadata": {},
     "output_type": "execute_result"
    }
   ],
   "source": [
    "f.readable()"
   ]
  },
  {
   "cell_type": "code",
   "execution_count": 15,
   "id": "36fc76cb",
   "metadata": {},
   "outputs": [],
   "source": [
    "# 2. Write a Python script to create a new file ‘myfile.txt’ and store user entered text."
   ]
  },
  {
   "cell_type": "code",
   "execution_count": 16,
   "id": "383e4f2e",
   "metadata": {},
   "outputs": [],
   "source": [
    "with open(\"myfile.txt\",\"w\") as f:\n",
    "    f.write(\"Hello, this is the first file\")"
   ]
  },
  {
   "cell_type": "code",
   "execution_count": 17,
   "id": "cdb572ba",
   "metadata": {},
   "outputs": [],
   "source": [
    "# 3. Write a Python script to read the above created file ‘myfile.txt’ and display content on\n",
    "#the console."
   ]
  },
  {
   "cell_type": "code",
   "execution_count": 20,
   "id": "edd4b780",
   "metadata": {},
   "outputs": [
    {
     "name": "stdout",
     "output_type": "stream",
     "text": [
      "Hello, this is the first file\n"
     ]
    }
   ],
   "source": [
    "with open(\"myfile.txt\",\"r\") as f:\n",
    "    print(f.read())"
   ]
  },
  {
   "cell_type": "code",
   "execution_count": 21,
   "id": "0a6c640b",
   "metadata": {},
   "outputs": [],
   "source": [
    "# 4. Write a Python script to store a list of city names in a file ‘cities.txt’"
   ]
  },
  {
   "cell_type": "code",
   "execution_count": 22,
   "id": "858782af",
   "metadata": {},
   "outputs": [],
   "source": [
    "city_list = [\"Bengaluru\",\"Visakhapatnam\",\"Hyderabad\",\"Lucknow\",\"Indore\",\"Pune\",\"Amdavad\",\"Bhopal\",\"Chennai\",\"Surat\",\"Meerut\",\"Mumbai\",\"Warangal\"]"
   ]
  },
  {
   "cell_type": "code",
   "execution_count": 24,
   "id": "d0384645",
   "metadata": {},
   "outputs": [],
   "source": [
    "with open('cities.txt','w') as f:\n",
    "    f.write(\",\".join(city_list))"
   ]
  },
  {
   "cell_type": "code",
   "execution_count": 25,
   "id": "eb4b7f49",
   "metadata": {},
   "outputs": [],
   "source": [
    "new_city = [\"Bangalore\",\"Hyderabad\",\"Ahmedabad\",\"Chennai\",\"Kolkata\",\"Surat\",\"Pune\",\"Jaipur\",\"Lucknow\",\"Kanpur\",\"Nagpur\",\"Indore\",\"Thane\"]"
   ]
  },
  {
   "cell_type": "code",
   "execution_count": 26,
   "id": "c6f1bef5",
   "metadata": {},
   "outputs": [],
   "source": [
    "with open('cities.txt','a') as f:\n",
    "    f.write(\",\".join(new_city))"
   ]
  },
  {
   "cell_type": "code",
   "execution_count": 27,
   "id": "60cc40ac",
   "metadata": {},
   "outputs": [],
   "source": [
    "# 6. Write a Python script to search whether a particular city is there in the file ‘cities.txt’ or\n",
    "# not"
   ]
  },
  {
   "cell_type": "code",
   "execution_count": 32,
   "id": "d21c2694",
   "metadata": {},
   "outputs": [
    {
     "name": "stdout",
     "output_type": "stream",
     "text": [
      "Enter the city namehh\n",
      "The city is not availble in the list\n"
     ]
    }
   ],
   "source": [
    "search = input(\"Enter the city name\")\n",
    "with open('cities.txt','r') as f:\n",
    "    if f.read().find(search) != -1:\n",
    "        print(\"The city is available in the list\")\n",
    "    else:\n",
    "        print(\"The city is not availble in the list\")"
   ]
  },
  {
   "cell_type": "code",
   "execution_count": 33,
   "id": "05d29487",
   "metadata": {},
   "outputs": [],
   "source": [
    "# 7. Write a Python script to count the number of Python keywords occurring in a python\n",
    "# source file."
   ]
  },
  {
   "cell_type": "code",
   "execution_count": 76,
   "id": "de081955",
   "metadata": {},
   "outputs": [
    {
     "name": "stdout",
     "output_type": "stream",
     "text": [
      "35\n"
     ]
    }
   ],
   "source": [
    "with open(r\"C:\\Users\\Atul Singh\\AppData\\Local\\Programs\\Python\\Python310\\Lib\\keyword.py\",\"r\") as kf:\n",
    "    data = kf.read()\n",
    "    start = data.find(\"kwlist = [\") + 10\n",
    "    end = data.find(\"softkwlist = [\")-3\n",
    "    print(len(data[start:end].replace(\",\",\"\").replace(\" \",\"\").replace(\"'\",\"\").strip().split(\"\\n\")))\n",
    "    "
   ]
  },
  {
   "cell_type": "code",
   "execution_count": 77,
   "id": "08e5687e",
   "metadata": {},
   "outputs": [],
   "source": [
    "# 8. Write a Python script to create a copy of a file.\n",
    "with open(\"cities.txt\",\"r\") as f:\n",
    "    content = f.read()\n",
    "    with open(\"cities_copy.txt\",\"w\") as cf:\n",
    "        cf.write(content)"
   ]
  },
  {
   "cell_type": "raw",
   "id": "338ac07a",
   "metadata": {},
   "source": [
    "'''\n",
    "9. Write a Python script to store book data in a file. Book data is in the form of a dictionary in which book name is the key and price is its value. Use pickle to store data into a file (say bookfile)\n",
    "'''"
   ]
  },
  {
   "cell_type": "code",
   "execution_count": 80,
   "id": "b7be6c30",
   "metadata": {},
   "outputs": [],
   "source": [
    "book_Info = {\n",
    "    \"Hands–On Machine Learning\": 2400,\n",
    "    \"Head First Java\":1200,\n",
    "    \"Head First Python\": 1000\n",
    "}"
   ]
  },
  {
   "cell_type": "code",
   "execution_count": 82,
   "id": "fb602455",
   "metadata": {},
   "outputs": [],
   "source": [
    "import pickle"
   ]
  },
  {
   "cell_type": "code",
   "execution_count": 83,
   "id": "ef92b352",
   "metadata": {},
   "outputs": [],
   "source": [
    "with open(\"bookfile.txt\",\"wb\") as pf:\n",
    "    pickle.dump(book_Info,pf)"
   ]
  },
  {
   "cell_type": "raw",
   "id": "77f1c5bc",
   "metadata": {},
   "source": [
    "'''\n",
    "10. Write a Python script to extract book data from a bookfile using pickle. Also print extracted book data.\n",
    "'''"
   ]
  },
  {
   "cell_type": "code",
   "execution_count": 84,
   "id": "dc62055b",
   "metadata": {},
   "outputs": [
    {
     "name": "stdout",
     "output_type": "stream",
     "text": [
      "{'Hands–On Machine Learning': 2400, 'Head First Java': 1200, 'Head First Python': 1000}\n"
     ]
    }
   ],
   "source": [
    "with open(\"bookfile.txt\",\"rb\") as rf:\n",
    "    data = pickle.load(rf)\n",
    "    print(data)"
   ]
  },
  {
   "cell_type": "code",
   "execution_count": null,
   "id": "8a3f4bbb",
   "metadata": {},
   "outputs": [],
   "source": []
  }
 ],
 "metadata": {
  "kernelspec": {
   "display_name": "Python 3 (ipykernel)",
   "language": "python",
   "name": "python3"
  },
  "language_info": {
   "codemirror_mode": {
    "name": "ipython",
    "version": 3
   },
   "file_extension": ".py",
   "mimetype": "text/x-python",
   "name": "python",
   "nbconvert_exporter": "python",
   "pygments_lexer": "ipython3",
   "version": "3.10.6"
  }
 },
 "nbformat": 4,
 "nbformat_minor": 5
}
