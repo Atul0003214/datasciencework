{
 "cells": [
  {
   "cell_type": "code",
   "execution_count": null,
   "metadata": {},
   "outputs": [],
   "source": [
    "# Write a Python Program to Find the Factorial of a Number?"
   ]
  },
  {
   "cell_type": "code",
   "execution_count": 1,
   "metadata": {},
   "outputs": [
    {
     "name": "stdout",
     "output_type": "stream",
     "text": [
      "Enter a Number: 5\n",
      "The factorial of the number 5 is 120\n"
     ]
    }
   ],
   "source": [
    "try:\n",
    "    num = int(input(\"Enter a Number: \"))\n",
    "except ValueError:\n",
    "    print(\"Please enter a correct number.\")\n",
    "else:\n",
    "    result = 1\n",
    "    if num < 0:\n",
    "        print(\"Please enter a positive number\")\n",
    "    elif num == 0 or num == 1:\n",
    "        print(f\"The factorial of the number {num} is: {1} \")\n",
    "    else:\n",
    "        for i in range(1, num+1):\n",
    "            result *= i\n",
    "        print(f\"The factorial of the number {num} is {result}\")"
   ]
  },
  {
   "cell_type": "code",
   "execution_count": null,
   "metadata": {},
   "outputs": [],
   "source": [
    "# Write a Python Program to Display the multiplication Table?"
   ]
  },
  {
   "cell_type": "code",
   "execution_count": 2,
   "metadata": {},
   "outputs": [
    {
     "name": "stdout",
     "output_type": "stream",
     "text": [
      "Enter a Number to print table: 12\n",
      "+----------------+--------+\n",
      "| Multiplication | Result |\n",
      "+----------------+--------+\n",
      "|      12X1      |   12   |\n",
      "|      12X2      |   24   |\n",
      "|      12X3      |   36   |\n",
      "|      12X4      |   48   |\n",
      "|      12X5      |   60   |\n",
      "|      12X6      |   72   |\n",
      "|      12X7      |   84   |\n",
      "|      12X8      |   96   |\n",
      "|      12X9      |  108   |\n",
      "|     12X10      |  120   |\n",
      "+----------------+--------+\n"
     ]
    }
   ],
   "source": [
    "from prettytable import PrettyTable\n",
    "try:\n",
    "    num = int(input(\"Enter a Number to print table: \"))\n",
    "except ValueError:\n",
    "    print(\"Please enter a number.\")\n",
    "else:\n",
    "    def multable(num):\n",
    "        p = PrettyTable()\n",
    "        p.field_names = [\"Multiplication\", \"Result\"]\n",
    "        for i in range(1, 11):\n",
    "            p.add_row([f\"{num}X{i}\", num*i])\n",
    "        print(p)\n",
    "\n",
    "\n",
    "    multable(num)"
   ]
  },
  {
   "cell_type": "code",
   "execution_count": null,
   "metadata": {},
   "outputs": [],
   "source": [
    "# 3.\tWrite a Python Program to Print the Fibonacci sequence?"
   ]
  },
  {
   "cell_type": "code",
   "execution_count": 3,
   "metadata": {},
   "outputs": [
    {
     "name": "stdout",
     "output_type": "stream",
     "text": [
      "Enter a Number: 5\n",
      "0\n",
      "1\n",
      "1\n",
      "2\n",
      "3\n"
     ]
    }
   ],
   "source": [
    "try:\n",
    "    num = int(input(\"Enter a Number: \"))\n",
    "\n",
    "except ValueError:\n",
    "    print(\"Please enter a correct number.\")\n",
    "else:\n",
    "    def fab_generator(num):\n",
    "        check = 0\n",
    "        a = 0\n",
    "        b = 1\n",
    "        while check < num:\n",
    "            yield a\n",
    "            # print(a,b)\n",
    "            a, b = b, a+b\n",
    "            check += 1\n",
    "    for i in fab_generator(num):\n",
    "        print(i)"
   ]
  },
  {
   "cell_type": "code",
   "execution_count": null,
   "metadata": {},
   "outputs": [],
   "source": [
    "#\tWrite a Python Program to Check Armstrong Number?"
   ]
  },
  {
   "cell_type": "code",
   "execution_count": 5,
   "metadata": {},
   "outputs": [
    {
     "name": "stdout",
     "output_type": "stream",
     "text": [
      "Enter a Number: 153\n",
      "The number is armstrong number\n"
     ]
    }
   ],
   "source": [
    "try:\n",
    "    num = int(input(\"Enter a Number: \"))\n",
    "\n",
    "except ValueError:\n",
    "    print(\"Please enter a correct number.\")\n",
    "else:\n",
    "    num_str = str(num)\n",
    "    result = 0\n",
    "    for i in num_str:\n",
    "        a = int(i)\n",
    "        result += a*a*a\n",
    "    if result == num:\n",
    "        print(\"The number is armstrong number\")\n",
    "    else:\n",
    "        print(\"The number is not armstrong number\")"
   ]
  },
  {
   "cell_type": "code",
   "execution_count": null,
   "metadata": {},
   "outputs": [],
   "source": [
    "#\tWrite a Python Program to Find Armstrong Number in an Interval?"
   ]
  },
  {
   "cell_type": "code",
   "execution_count": 6,
   "metadata": {},
   "outputs": [
    {
     "name": "stdout",
     "output_type": "stream",
     "text": [
      "Enter starting Number: 1\n",
      "Enter Ending Number: 500\n",
      "The list of armstrong number is [1, 153, 370, 371, 407]\n"
     ]
    }
   ],
   "source": [
    "try:\n",
    "    start = int(input(\"Enter starting Number: \"))\n",
    "    end = int(input(\"Enter Ending Number: \"))\n",
    "\n",
    "except ValueError:\n",
    "    print(\"Please enter a correct number.\")\n",
    "else:\n",
    "    if 0 <= start < end:\n",
    "        armstrong_num = []\n",
    "        for k in range(start, end+1):\n",
    "            num_str = str(k)\n",
    "            result = 0\n",
    "            for i in num_str:\n",
    "                a = int(i)\n",
    "                result += a*a*a\n",
    "            if result == k:\n",
    "                armstrong_num.append(k)\n",
    "        print(f\"The list of armstrong number is {armstrong_num}\")\n",
    "    else:\n",
    "        print(\"start number must be >=0 and < end number.\")"
   ]
  },
  {
   "cell_type": "code",
   "execution_count": null,
   "metadata": {},
   "outputs": [],
   "source": [
    "#\tWrite a Python Program to Find the Sum of Natural Numbers?"
   ]
  },
  {
   "cell_type": "code",
   "execution_count": 7,
   "metadata": {},
   "outputs": [
    {
     "name": "stdout",
     "output_type": "stream",
     "text": [
      "Enter a Natural number: 5\n",
      "15\n"
     ]
    }
   ],
   "source": [
    "try:\n",
    "    num = int(input(\"Enter a Natural number: \"))\n",
    "except ValueError:\n",
    "    print(\"Please enter a number(not decimal or string)\")\n",
    "else:\n",
    "    def sum_natural_number(num):\n",
    "        if num <= 0:\n",
    "            return \"Please enter a number grater than zero\"\n",
    "        else:\n",
    "            result = 0\n",
    "            for i in range(1, num+1):\n",
    "                result += i\n",
    "            return result\n",
    "\n",
    "    print(sum_natural_number(num))"
   ]
  }
 ],
 "metadata": {
  "kernelspec": {
   "display_name": "Python 3",
   "language": "python",
   "name": "python3"
  },
  "language_info": {
   "codemirror_mode": {
    "name": "ipython",
    "version": 3
   },
   "file_extension": ".py",
   "mimetype": "text/x-python",
   "name": "python",
   "nbconvert_exporter": "python",
   "pygments_lexer": "ipython3",
   "version": "3.8.5"
  }
 },
 "nbformat": 4,
 "nbformat_minor": 4
}
