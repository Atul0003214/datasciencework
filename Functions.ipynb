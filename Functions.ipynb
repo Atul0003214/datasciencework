{
 "cells": [
  {
   "cell_type": "markdown",
   "id": "9e27063a-9e3b-451f-928c-7860944c033c",
   "metadata": {},
   "source": [
    "1. Write a python program to create a simple function which prints “MySirG” ."
   ]
  },
  {
   "cell_type": "code",
   "execution_count": 1,
   "id": "9063e559-075c-4ded-a7cf-43779e414d9f",
   "metadata": {},
   "outputs": [
    {
     "name": "stdout",
     "output_type": "stream",
     "text": [
      "MySirG\n"
     ]
    }
   ],
   "source": [
    "def show():\n",
    "    print(\"MySirG\")\n",
    "\n",
    "show()"
   ]
  },
  {
   "cell_type": "markdown",
   "id": "224e0678-3625-4c63-90a2-495ca914c52e",
   "metadata": {},
   "source": [
    "2. Write a python program to create a function which expects two arguments and print\n",
    "them in the function body."
   ]
  },
  {
   "cell_type": "code",
   "execution_count": 2,
   "id": "ad3e76c5-4829-4aa1-a8b9-6fb01e0e0c76",
   "metadata": {},
   "outputs": [
    {
     "name": "stdout",
     "output_type": "stream",
     "text": [
      "Hellow World\n"
     ]
    }
   ],
   "source": [
    "def showAgrs(a,b):\n",
    "    print(a,b)\n",
    "    \n",
    "showAgrs(\"Hellow\",\"World\")"
   ]
  },
  {
   "cell_type": "markdown",
   "id": "9fb7e9ed-5fc0-4bb2-be8f-5e58c8c21878",
   "metadata": {},
   "source": [
    "3. Write a python program to create a function which expects an unknown number of\n",
    "arguments."
   ]
  },
  {
   "cell_type": "code",
   "execution_count": 8,
   "id": "9fe28fa5-fe16-492c-b6a9-ab43ecaf2b74",
   "metadata": {},
   "outputs": [
    {
     "name": "stdout",
     "output_type": "stream",
     "text": [
      "(3, 4, 5, 6, 77, 33, 2, 1)\n"
     ]
    }
   ],
   "source": [
    "def unkonwArgs(*args):\n",
    "    print(args)\n",
    "\n",
    "unkonwArgs(3,4,5,6,77,33,2,1)"
   ]
  },
  {
   "cell_type": "markdown",
   "id": "691a27f1-b06f-48af-98f9-d6ea991457b6",
   "metadata": {},
   "source": [
    "4. Write a python program to create a function which expects kwargs arguments."
   ]
  },
  {
   "cell_type": "code",
   "execution_count": 27,
   "id": "7af5ad59-dc43-4ece-ae3e-bc0adec2bf2e",
   "metadata": {},
   "outputs": [
    {
     "name": "stdout",
     "output_type": "stream",
     "text": [
      "{'a': 1, 'b': 4, 'c': 99, 'd': 43, 'e': 87}\n"
     ]
    }
   ],
   "source": [
    "def keyWordArgs(**kwargs):\n",
    "    print(kwargs)\n",
    "    \n",
    "kwargss = {\"a\":1,\"b\":4,\"c\":99,\"d\":43,\"e\":87}\n",
    "keyWordArgs(**kwargss)"
   ]
  },
  {
   "cell_type": "markdown",
   "id": "cb23ec0c-c875-4bab-86c5-7f8d05efd6e2",
   "metadata": {},
   "source": [
    "5. Write a python program to create a function which expects a list as an argument."
   ]
  },
  {
   "cell_type": "code",
   "execution_count": 24,
   "id": "0bc1244f-2796-4cc2-9c17-34bb55fcbbd4",
   "metadata": {},
   "outputs": [],
   "source": [
    "def listArgs(lis):\n",
    "    if type(lis)==list:\n",
    "        print(lis)\n",
    "    else:\n",
    "        print(\"please enter list\")"
   ]
  },
  {
   "cell_type": "code",
   "execution_count": 25,
   "id": "814a9577-c9a0-4b27-bd43-496c8d3695ed",
   "metadata": {},
   "outputs": [
    {
     "name": "stdout",
     "output_type": "stream",
     "text": [
      "please enter list\n"
     ]
    }
   ],
   "source": [
    "listArgs(\"s\")"
   ]
  },
  {
   "cell_type": "code",
   "execution_count": 26,
   "id": "b6fec71d-fb11-487f-ac29-ee6a11586e99",
   "metadata": {},
   "outputs": [
    {
     "name": "stdout",
     "output_type": "stream",
     "text": [
      "[3, 4, 5, 5, 6]\n"
     ]
    }
   ],
   "source": [
    "listArgs([3,4,5,5,6])"
   ]
  },
  {
   "cell_type": "markdown",
   "id": "38cf8bd8-a6d6-45f8-a23e-c73dae3c087f",
   "metadata": {},
   "source": [
    "6. Write a python program to create a function that finds a maximum of four numbers."
   ]
  },
  {
   "cell_type": "code",
   "execution_count": 30,
   "id": "4dbaa34e-beea-42a0-80b9-431d6413570d",
   "metadata": {},
   "outputs": [
    {
     "name": "stdout",
     "output_type": "stream",
     "text": [
      "44\n"
     ]
    }
   ],
   "source": [
    "def maxOfFour(a,b,c,d):\n",
    "    print(max(a,b,c,d))\n",
    "\n",
    "maxOfFour(44,1,3,43)\n",
    "        \n",
    "        "
   ]
  },
  {
   "cell_type": "markdown",
   "id": "fd13e2ae-8abe-4b62-b3a1-e8049a25b6ea",
   "metadata": {},
   "source": [
    "7. Write a python program to sum all the numbers in a list."
   ]
  },
  {
   "cell_type": "code",
   "execution_count": 34,
   "id": "e7d116a4-5fe2-4c73-a334-758ff0335de1",
   "metadata": {},
   "outputs": [
    {
     "name": "stdout",
     "output_type": "stream",
     "text": [
      "The sum of the number is 235\n"
     ]
    }
   ],
   "source": [
    "def calSumOfList(number: list):\n",
    "    if type(number) == list:\n",
    "        print(\"The sum of the number is {a}\".format(a=sum(number)))\n",
    "    else:\n",
    "        print(\"Please enter a list\")\n",
    "        \n",
    "calSumOfList([3,33,55,66,77,1])"
   ]
  },
  {
   "cell_type": "markdown",
   "id": "39561451-c257-4782-826d-0d7666d2ff02",
   "metadata": {},
   "source": [
    "8. Write a python program to multiply all the numbers in a list."
   ]
  },
  {
   "cell_type": "code",
   "execution_count": 4,
   "id": "f14941af-6662-4ddb-8422-5eab9553257d",
   "metadata": {},
   "outputs": [],
   "source": [
    "from functools import reduce"
   ]
  },
  {
   "cell_type": "code",
   "execution_count": 10,
   "id": "e40e7508-799d-466d-85ee-f549ef6c3c9f",
   "metadata": {},
   "outputs": [
    {
     "name": "stdout",
     "output_type": "stream",
     "text": [
      "81\n"
     ]
    }
   ],
   "source": [
    "from functools import reduce\n",
    "def multiplyNumber(number):\n",
    "    if type(number) == list:\n",
    "        print(reduce(lambda x,y:x*y,number))\n",
    "    else:\n",
    "         print(\"Please enter a list\")\n",
    "            \n",
    "multiplyNumber([3,3,3,3])"
   ]
  },
  {
   "cell_type": "markdown",
   "id": "3bd4b9bf-e43e-467d-ba03-0a2120d56584",
   "metadata": {},
   "source": [
    "9. Write a python program to create a function to check whether a number falls in a\n",
    "given range."
   ]
  },
  {
   "cell_type": "code",
   "execution_count": 13,
   "id": "94f7ad38-636f-4379-ad16-b6226f19577f",
   "metadata": {},
   "outputs": [
    {
     "name": "stdout",
     "output_type": "stream",
     "text": [
      "Number does not lie in the given range\n"
     ]
    }
   ],
   "source": [
    "def rangeChecker(num,startRange,endRange):\n",
    "    if(startRange<=num & num<=endRange):\n",
    "        print(\"Number lies in the given range\")\n",
    "    else:\n",
    "        print(\"Number does not lie in the given range\")\n",
    "rangeChecker(44, 30,40)"
   ]
  },
  {
   "cell_type": "markdown",
   "id": "c3779179-cc1a-49dd-95ec-bd70bbefdbd8",
   "metadata": {},
   "source": [
    "10. Write a python program to create a function to check whether a given number is even\n",
    "or odd."
   ]
  },
  {
   "cell_type": "code",
   "execution_count": 18,
   "id": "f20fe3ac-6f66-431d-898a-c6141af6f2a7",
   "metadata": {},
   "outputs": [
    {
     "name": "stdout",
     "output_type": "stream",
     "text": [
      "Number is odd Number\n"
     ]
    }
   ],
   "source": [
    "def evenOddChecker(num):\n",
    "    if num % 2 == 0:\n",
    "        print(\"Number is even Number\")\n",
    "    else:\n",
    "        print(\"Number is odd Number\")\n",
    "\n",
    "evenOddChecker(43)"
   ]
  },
  {
   "cell_type": "code",
   "execution_count": null,
   "id": "0f881b30-1cec-46c7-8f1d-9c656070b42f",
   "metadata": {},
   "outputs": [],
   "source": []
  }
 ],
 "metadata": {
  "kernelspec": {
   "display_name": "Python 3 (ipykernel)",
   "language": "python",
   "name": "python3"
  },
  "language_info": {
   "codemirror_mode": {
    "name": "ipython",
    "version": 3
   },
   "file_extension": ".py",
   "mimetype": "text/x-python",
   "name": "python",
   "nbconvert_exporter": "python",
   "pygments_lexer": "ipython3",
   "version": "3.9.12"
  }
 },
 "nbformat": 4,
 "nbformat_minor": 5
}
