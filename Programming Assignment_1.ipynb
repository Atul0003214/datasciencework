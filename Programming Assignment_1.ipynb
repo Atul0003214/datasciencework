{
 "cells": [
  {
   "cell_type": "code",
   "execution_count": null,
   "metadata": {},
   "outputs": [],
   "source": [
    "# 1.\tWrite a Python program to print \"Hello Python\"?"
   ]
  },
  {
   "cell_type": "code",
   "execution_count": 5,
   "metadata": {},
   "outputs": [
    {
     "name": "stdout",
     "output_type": "stream",
     "text": [
      "\"Hello Python\"\n"
     ]
    }
   ],
   "source": [
    "print('\"Hello Python\"')"
   ]
  },
  {
   "cell_type": "code",
   "execution_count": null,
   "metadata": {},
   "outputs": [],
   "source": [
    "#2. \tWrite a Python program to do arithmetical operations addition and division.?"
   ]
  },
  {
   "cell_type": "code",
   "execution_count": 7,
   "metadata": {
    "scrolled": true
   },
   "outputs": [
    {
     "name": "stdout",
     "output_type": "stream",
     "text": [
      "Enter first number25.9\n",
      "Enter second number95.22\n",
      "Enter operation name A for addition or D for divisiond\n",
      "The division of the number 25.9/95.22 is 0.27200168031926064\n"
     ]
    }
   ],
   "source": [
    "try:\n",
    "    input1 = float(input(\"Enter first number\"))\n",
    "    input2 = float(input(\"Enter second number\"))\n",
    "except ValueError:\n",
    "    print(\"Please enter an integer/float value only\")\n",
    "else:\n",
    "    input3 = input(\"Enter operation name A for addition or D for division\")\n",
    "\n",
    "\n",
    "    # Code for addition\n",
    "    def addition(input1, input2):\n",
    "        sum1 = input1 + input2\n",
    "        print(f\"The sum is {sum1}\")\n",
    "\n",
    "\n",
    "    # Code for division\n",
    "    def div(input1, input2):\n",
    "        try:\n",
    "            result = input1 / input2\n",
    "            print(f\"The division of the number {input1}/{input2} is {result}\")\n",
    "        except ZeroDivisionError:\n",
    "            print(f\"The denominator can not be zero\")\n",
    "\n",
    "\n",
    "    if input3.upper() == \"A\":\n",
    "        addition(input1, input2)\n",
    "    elif input3.upper() == \"D\":\n",
    "        div(input1, input2)\n",
    "    else:\n",
    "        print(\"Please enter a correct operation name\")\n"
   ]
  },
  {
   "cell_type": "code",
   "execution_count": null,
   "metadata": {},
   "outputs": [],
   "source": [
    "#3.\t Write a Python program to find the area of a triangle?"
   ]
  },
  {
   "cell_type": "code",
   "execution_count": 6,
   "metadata": {},
   "outputs": [
    {
     "name": "stdout",
     "output_type": "stream",
     "text": [
      "Enter Height12\n",
      "Enter Base25\n",
      "150.0\n"
     ]
    }
   ],
   "source": [
    "try:\n",
    "    height = float(input(\"Enter Height\"))\n",
    "    base = float(input(\"Enter Base\"))\n",
    "except ValueError:\n",
    "    print(\"Please enter an integer value\")\n",
    "else:\n",
    "    def area(height, base):\n",
    "        result = 1 / 2 * base * height\n",
    "        return result\n",
    "\n",
    "\n",
    "    print(area(height, base))"
   ]
  },
  {
   "cell_type": "code",
   "execution_count": null,
   "metadata": {},
   "outputs": [],
   "source": [
    "#4. Write a Python program to swap two variables?"
   ]
  },
  {
   "cell_type": "code",
   "execution_count": 8,
   "metadata": {},
   "outputs": [
    {
     "name": "stdout",
     "output_type": "stream",
     "text": [
      "Enter first number12\n",
      "Enter second number89\n",
      "The first data is 89 and second data is 12\n"
     ]
    }
   ],
   "source": [
    "input1 = input(\"Enter first number\")\n",
    "input2 = input(\"Enter second number\")\n",
    "\n",
    "\n",
    "def swap(input1, input2):\n",
    "    tempvariable = input2\n",
    "    input2 = input1\n",
    "    input1 = tempvariable\n",
    "    return 'The first data is {a} and second data is {b}'.format(a=input1, b=input2)\n",
    "\n",
    "\n",
    "result = swap(input1, input2)\n",
    "print(result)"
   ]
  },
  {
   "cell_type": "code",
   "execution_count": null,
   "metadata": {},
   "outputs": [],
   "source": [
    "#5.\tWrite a Python program to generate a random number?"
   ]
  },
  {
   "cell_type": "code",
   "execution_count": 10,
   "metadata": {},
   "outputs": [
    {
     "name": "stdout",
     "output_type": "stream",
     "text": [
      "Enter first number1\n",
      "Enter second number25\n",
      "8\n"
     ]
    }
   ],
   "source": [
    "import random\n",
    "\n",
    "try:\n",
    "    input1 = float(input(\"Enter first number\"))\n",
    "    input2 = float(input(\"Enter second number\"))\n",
    "except ValueError:\n",
    "    print(\"Please enter an integer/float value only\")\n",
    "else:\n",
    "    def random_num_generator(input1, input2):\n",
    "        return random.randint(input1, input2)\n",
    "\n",
    "\n",
    "    result = random_num_generator(input1, input2)\n",
    "    print(result)"
   ]
  }
 ],
 "metadata": {
  "kernelspec": {
   "display_name": "Python 3",
   "language": "python",
   "name": "python3"
  },
  "language_info": {
   "codemirror_mode": {
    "name": "ipython",
    "version": 3
   },
   "file_extension": ".py",
   "mimetype": "text/x-python",
   "name": "python",
   "nbconvert_exporter": "python",
   "pygments_lexer": "ipython3",
   "version": "3.8.5"
  }
 },
 "nbformat": 4,
 "nbformat_minor": 4
}
