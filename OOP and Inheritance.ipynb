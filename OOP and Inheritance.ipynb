{
 "cells": [
  {
   "cell_type": "code",
   "execution_count": 1,
   "id": "aba8cdda-7f6e-4dfa-994e-564c1dc4b0b5",
   "metadata": {},
   "outputs": [],
   "source": [
    "# Write a python script to create a Profile class with 3 attributes (name, email, age)."
   ]
  },
  {
   "cell_type": "code",
   "execution_count": 27,
   "id": "0f7990f2-dd28-4cfa-bd23-d6a96bcf400a",
   "metadata": {},
   "outputs": [],
   "source": [
    "class Profile:\n",
    "    def __init__(self):\n",
    "        name = None\n",
    "        email = None\n",
    "        age = None\n",
    "        "
   ]
  },
  {
   "cell_type": "code",
   "execution_count": 3,
   "id": "bdd542d5-d74e-4f27-aa98-e9e0ddca2941",
   "metadata": {},
   "outputs": [],
   "source": [
    "# 2. Write a python script to update the above Profile class with encapsulation."
   ]
  },
  {
   "cell_type": "code",
   "execution_count": 28,
   "id": "7dbedda6-9acb-4457-985a-c5d8ff32af4c",
   "metadata": {},
   "outputs": [],
   "source": [
    "class Profile:\n",
    "    def __init__(self):\n",
    "        name = None\n",
    "        email = None\n",
    "        age = None\n",
    "    \n",
    "\n",
    "    def set_name(self,name):\n",
    "        self.name = name\n",
    "        \n",
    "  \n",
    "    def set_email(self,email):\n",
    "        self.email = email\n",
    "        \n",
    "  \n",
    "    def set_age(self,age):\n",
    "        self.age = age\n",
    "\n",
    "obj = Profile()\n",
    "obj.set_name(\"python\")\n",
    "obj.set_email(\"python@gmail.com\")\n",
    "obj.set_age(34)"
   ]
  },
  {
   "cell_type": "code",
   "execution_count": 5,
   "id": "d31f329c-46d5-4a68-b89b-565b43ab491d",
   "metadata": {},
   "outputs": [],
   "source": [
    "# 3. Write a python script to update 2nd Question, change email and age to __email and __age."
   ]
  },
  {
   "cell_type": "code",
   "execution_count": 29,
   "id": "5b5ac045-5242-46c3-ab7c-e40857855523",
   "metadata": {},
   "outputs": [],
   "source": [
    "class Profile:\n",
    "    def __init__(self):\n",
    "        name = None\n",
    "        __email = None\n",
    "        __age = None\n",
    "    \n",
    "\n",
    "    def set_name(self,name):\n",
    "        self.name = name\n",
    "        \n",
    "  \n",
    "    def set_email(self,email):\n",
    "        self.__email = email\n",
    "        \n",
    "  \n",
    "    def set_age(self,age):\n",
    "        self.__age = age\n",
    "\n",
    "obj = Profile()\n",
    "obj.set_name(\"python\")\n",
    "obj.set_email(\"pythonupdate@gmail.com\")\n",
    "obj.set_age(34)"
   ]
  },
  {
   "cell_type": "code",
   "execution_count": 25,
   "id": "2ad35d4d-fe79-479d-b053-67e84b79e47e",
   "metadata": {},
   "outputs": [],
   "source": [
    "# 4. Write a python script to update 2nd Question, add a class variable (platform) and create a classmethod to access it."
   ]
  },
  {
   "cell_type": "code",
   "execution_count": 30,
   "id": "95c63060-655d-4cb9-8ab1-9ebe8a78d27c",
   "metadata": {},
   "outputs": [
    {
     "name": "stdout",
     "output_type": "stream",
     "text": [
      "Ineuron\n"
     ]
    }
   ],
   "source": [
    "class Profile:\n",
    "    platform = \"Ineuron\"\n",
    "    \n",
    "    def __init__(self):\n",
    "        name = None\n",
    "        __email = None\n",
    "        __age = None\n",
    "    \n",
    "\n",
    "    def set_name(self,name):\n",
    "        self.name = name\n",
    "        \n",
    "  \n",
    "    def set_email(self,email):\n",
    "        self.__email = email\n",
    "        \n",
    "  \n",
    "    def set_age(self,age):\n",
    "        self.__age = age\n",
    "        \n",
    "    @classmethod    \n",
    "    def get_platform(cls):\n",
    "        print(cls.platform)\n",
    "        \n",
    "obj = Profile()\n",
    "obj.set_name(\"python\")\n",
    "obj.set_email(\"pythonupdate@gmail.com\")\n",
    "obj.set_age(34)\n",
    "obj.get_platform()"
   ]
  },
  {
   "cell_type": "code",
   "execution_count": 31,
   "id": "36591d19-1398-41bf-b31f-e66f13e57006",
   "metadata": {},
   "outputs": [],
   "source": [
    "# 5. Write a python script to create a Calculator class with 2 methods for adding and subtracting 2 values."
   ]
  },
  {
   "cell_type": "code",
   "execution_count": 33,
   "id": "90af4cfa-871d-4931-9cbc-d6aa817fcd7c",
   "metadata": {},
   "outputs": [
    {
     "name": "stdout",
     "output_type": "stream",
     "text": [
      "9\n",
      "10\n"
     ]
    }
   ],
   "source": [
    "class Calculator:\n",
    "    \n",
    "    def add(self,a,b):\n",
    "        print(a+b)\n",
    "    \n",
    "    def sub(self,a,b):\n",
    "        print(a-b)\n",
    "    \n",
    "c_obj = Calculator()\n",
    "c_obj.add(4,5)\n",
    "c_obj.sub(43,33)"
   ]
  },
  {
   "cell_type": "code",
   "execution_count": 34,
   "id": "85dbf299-b644-449e-9616-8b265df26fc6",
   "metadata": {},
   "outputs": [],
   "source": [
    "# 6. Write a python script to create a Calculator 2.0 class with 2 methods for multiplication\n",
    "# and division of 2 values and inherit it from the Calculator class."
   ]
  },
  {
   "cell_type": "code",
   "execution_count": 36,
   "id": "3254641c-66cf-482d-8df9-e9dbf76709a8",
   "metadata": {},
   "outputs": [],
   "source": [
    "class Calculator2:\n",
    "    \n",
    "    def multiply(self,a,b):\n",
    "        print(a*b)\n",
    "        \n",
    "    def divide(self,a,b):\n",
    "        print(a/b)"
   ]
  },
  {
   "cell_type": "code",
   "execution_count": 37,
   "id": "a3c2b91b-f102-4f6a-9e93-c0d4aa95b39d",
   "metadata": {},
   "outputs": [
    {
     "name": "stdout",
     "output_type": "stream",
     "text": [
      "9\n",
      "10\n",
      "1419\n",
      "1.303030303030303\n"
     ]
    }
   ],
   "source": [
    "class Calculator(Calculator2):\n",
    "    \n",
    "    def add(self,a,b):\n",
    "        print(a+b)\n",
    "    \n",
    "    def sub(self,a,b):\n",
    "        print(a-b)\n",
    "    \n",
    "c_obj = Calculator()\n",
    "c_obj.add(4,5)\n",
    "c_obj.sub(43,33)\n",
    "c_obj.multiply(43,33)\n",
    "c_obj.divide(43,33)"
   ]
  },
  {
   "cell_type": "code",
   "execution_count": 38,
   "id": "d9c45d83-bda8-4764-bb0d-6354ef1ebc8f",
   "metadata": {},
   "outputs": [],
   "source": [
    "# 7. Write a python script to create a Phone class with 2 methods to print the features (calling and sms)."
   ]
  },
  {
   "cell_type": "code",
   "execution_count": 40,
   "id": "a60dd12b-57f2-4b8f-879e-90e37fbb8b80",
   "metadata": {},
   "outputs": [
    {
     "name": "stdout",
     "output_type": "stream",
     "text": [
      "Calling\n",
      "SMS\n"
     ]
    }
   ],
   "source": [
    "class Phone:\n",
    "    \n",
    "    def __init__(self):\n",
    "        self.calling = \"Calling\"\n",
    "        self.sms = \"SMS\"\n",
    "        \n",
    "    def get_calling(self):\n",
    "        print(self.calling)\n",
    "        \n",
    "    def get_sms(self):\n",
    "        print(self.sms)\n",
    "        \n",
    "pobj = Phone()\n",
    "pobj.get_calling()\n",
    "pobj.get_sms()"
   ]
  },
  {
   "cell_type": "code",
   "execution_count": 41,
   "id": "e14becb9-6966-48bc-bd3b-ac1a1ba8dac8",
   "metadata": {},
   "outputs": [],
   "source": [
    "# 8. Write a python script to create a SmartPhone class by inheriting Calculator 2.0 and Phone Class."
   ]
  },
  {
   "cell_type": "code",
   "execution_count": 61,
   "id": "7974d0ef-a1f7-47b5-8bcf-056fabcc84c2",
   "metadata": {},
   "outputs": [],
   "source": [
    "class SmartPhone(Calculator2,Phone):\n",
    "    pass\n",
    "    "
   ]
  },
  {
   "cell_type": "code",
   "execution_count": 43,
   "id": "38e188f4-a023-4151-a0fd-48fd6df6a99a",
   "metadata": {},
   "outputs": [],
   "source": [
    "# 9. Write a python script to create an application like Truecaller where names and\n",
    "# numbers are stored. Truecaller class will have 2 methods (1st to fetch the name of a\n",
    "# number and 2nd to add a new entry)."
   ]
  },
  {
   "cell_type": "code",
   "execution_count": 86,
   "id": "090f5237-cc53-4cab-b107-defc74f98e47",
   "metadata": {},
   "outputs": [],
   "source": [
    "class Truecaller:\n",
    "    def __init__(self):\n",
    "        self.contact_dict = {\"PhoneNumber\" : \"Name\"}\n",
    "        \n",
    "    def fetchNumber(self,number):\n",
    "        if number in self.contact_dict.keys():\n",
    "            return self.contact_dict[number]\n",
    "        else:\n",
    "            return \"contact NotFound\"\n",
    "    \n",
    "    def addContact(self, number,name):\n",
    "        self.contact_dict[number] = name\n",
    "        return \"Contact added scuccessfully\""
   ]
  },
  {
   "cell_type": "code",
   "execution_count": 87,
   "id": "dbc66a83-2ec0-45df-afa4-ed32324d580b",
   "metadata": {},
   "outputs": [
    {
     "data": {
      "text/plain": [
       "'contact NotFound'"
      ]
     },
     "execution_count": 87,
     "metadata": {},
     "output_type": "execute_result"
    }
   ],
   "source": [
    "tobj = Truecaller()\n",
    "tobj.fetchNumber(4567892134)"
   ]
  },
  {
   "cell_type": "code",
   "execution_count": 88,
   "id": "b836d418-65c1-4824-8194-d5ab738806a7",
   "metadata": {},
   "outputs": [
    {
     "data": {
      "text/plain": [
       "'Contact added scuccessfully'"
      ]
     },
     "execution_count": 88,
     "metadata": {},
     "output_type": "execute_result"
    }
   ],
   "source": [
    "tobj.addContact(1234567890,\"test\")"
   ]
  },
  {
   "cell_type": "code",
   "execution_count": 89,
   "id": "f5457d64-ef48-4759-ad0d-6258125fd27f",
   "metadata": {},
   "outputs": [
    {
     "data": {
      "text/plain": [
       "'test'"
      ]
     },
     "execution_count": 89,
     "metadata": {},
     "output_type": "execute_result"
    }
   ],
   "source": [
    "tobj.fetchNumber(1234567890)"
   ]
  },
  {
   "cell_type": "code",
   "execution_count": 90,
   "id": "247fec7d-fa8a-4bdc-8083-b2fc24206504",
   "metadata": {},
   "outputs": [],
   "source": [
    "# 10. Write a python script to add the new method in SmartPhone class which accepts\n",
    "# Truecaller object as a parameter and call the fetch method of Truecaller."
   ]
  },
  {
   "cell_type": "code",
   "execution_count": 91,
   "id": "9789e46d-2b06-4ee9-93bc-c15287245d06",
   "metadata": {},
   "outputs": [],
   "source": [
    "class SmartPhone(Calculator2,Phone):\n",
    "    \n",
    "    def fetchName(self,objectName,number):\n",
    "        print(objectName.fetchNumber(number))\n",
    "        \n",
    "        \n",
    "        "
   ]
  },
  {
   "cell_type": "code",
   "execution_count": 92,
   "id": "07cc5ba6-af63-43d9-85b8-6290b26cba93",
   "metadata": {},
   "outputs": [
    {
     "name": "stdout",
     "output_type": "stream",
     "text": [
      "contact NotFound\n"
     ]
    }
   ],
   "source": [
    "sobj = SmartPhone()\n",
    "tobj1 = Truecaller()\n",
    "sobj.fetchName(tobj1,1234567890)"
   ]
  },
  {
   "cell_type": "code",
   "execution_count": null,
   "id": "aca96393-c350-477b-aff0-894549fe9ab1",
   "metadata": {},
   "outputs": [],
   "source": []
  }
 ],
 "metadata": {
  "kernelspec": {
   "display_name": "Python 3 (ipykernel)",
   "language": "python",
   "name": "python3"
  },
  "language_info": {
   "codemirror_mode": {
    "name": "ipython",
    "version": 3
   },
   "file_extension": ".py",
   "mimetype": "text/x-python",
   "name": "python",
   "nbconvert_exporter": "python",
   "pygments_lexer": "ipython3",
   "version": "3.9.12"
  }
 },
 "nbformat": 4,
 "nbformat_minor": 5
}
