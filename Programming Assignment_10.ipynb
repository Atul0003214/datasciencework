{
 "cells": [
  {
   "cell_type": "code",
   "execution_count": 1,
   "id": "0caeda97",
   "metadata": {},
   "outputs": [],
   "source": [
    "# Write a Python program to find sum of elements in list?"
   ]
  },
  {
   "cell_type": "code",
   "execution_count": 25,
   "id": "9450ffe4",
   "metadata": {},
   "outputs": [
    {
     "name": "stdout",
     "output_type": "stream",
     "text": [
      "Enter the number of element: 5\n",
      "Enter Number: 20\n",
      "Enter Number: 20\n",
      "Enter Number: 20\n",
      "Enter Number: 30\n",
      "Enter Number: 10\n",
      "Your List is: [20.0, 20.0, 20.0, 30.0, 10.0]\n",
      "100.0\n"
     ]
    }
   ],
   "source": [
    "class ElementSum:\n",
    "    def element_sum(self, array1):\n",
    "        self.list = array1\n",
    "        print(f\"Your List is: {self.list}\")\n",
    "        self.sum = 0.0\n",
    "        for i in self.list:\n",
    "            self.sum +=i\n",
    "\n",
    "        return self.sum\n",
    "\n",
    "\n",
    "try:\n",
    "    l = []\n",
    "    array = int(input(\"Enter the number of element: \"))\n",
    "    for i in range(0, array):\n",
    "        data = float(input(\"Enter Number: \"))\n",
    "        l.append(data)\n",
    "except ValueError:\n",
    "    print(\"Enter a number not string\")\n",
    "else:\n",
    "    a = ElementSum()\n",
    "    print(a.element_sum(l))\n"
   ]
  },
  {
   "cell_type": "code",
   "execution_count": 3,
   "id": "3acf412d",
   "metadata": {},
   "outputs": [],
   "source": [
    "# write a Python program to  Multiply all numbers in the list?"
   ]
  },
  {
   "cell_type": "code",
   "execution_count": 27,
   "id": "a715005e",
   "metadata": {},
   "outputs": [
    {
     "name": "stdout",
     "output_type": "stream",
     "text": [
      "Enter the number of element: 4\n",
      "Enter Number: 10\n",
      "Enter Number: 20\n",
      "Enter Number: 30\n",
      "Enter Number: 40\n",
      "Your List is: [10.0, 20.0, 30.0, 40.0]\n",
      "The multiple of all the numbers are : 240000.0\n"
     ]
    }
   ],
   "source": [
    "class ElementMultiply:\n",
    "    def element_multiply(self, array1):\n",
    "        self.list = array1\n",
    "        print(f\"Your List is: {self.list}\")\n",
    "        self.sum = 1.0\n",
    "        for i in self.list:\n",
    "            self.sum *= i\n",
    "\n",
    "        return self.sum\n",
    "\n",
    "\n",
    "try:\n",
    "    l = []\n",
    "    array = int(input(\"Enter the number of element: \"))\n",
    "    if array > 0:\n",
    "        for i in range(0, array):\n",
    "            data = float(input(\"Enter Number: \"))\n",
    "            l.append(data)\n",
    "        a = ElementMultiply()\n",
    "        print(f\"The multiple of all the numbers are : {a.element_multiply(l)}\")\n",
    "    else:\n",
    "        print(\"Please enter a number > 0\")\n",
    "except ValueError:\n",
    "    print(\"Enter a number not string/float\")\n"
   ]
  },
  {
   "cell_type": "code",
   "execution_count": 5,
   "id": "0a1c0708",
   "metadata": {},
   "outputs": [],
   "source": [
    "# Write a Python program to find smallest number in a list?"
   ]
  },
  {
   "cell_type": "code",
   "execution_count": 28,
   "id": "7f84abb5",
   "metadata": {},
   "outputs": [
    {
     "name": "stdout",
     "output_type": "stream",
     "text": [
      "Enter the list size: 6\n",
      "Enter Number: 23\n",
      "Enter Number: 65\n",
      "Enter Number: 19\n",
      "Enter Number: 22\n",
      "Enter Number: 105\n",
      "Enter Number: 20\n",
      "Your List is: [23.0, 65.0, 19.0, 22.0, 105.0, 20.0]\n",
      "The smallest number is 19.0\n"
     ]
    }
   ],
   "source": [
    "class SmallNumber:\n",
    "    def small_number(self, array1):\n",
    "        self.list = array1\n",
    "        print(f\"Your List is: {self.list}\")\n",
    "        return min(self.list)\n",
    "\n",
    "\n",
    "try:\n",
    "    l = []\n",
    "    array = int(input(\"Enter the list size: \"))\n",
    "    if array > 0:\n",
    "        for i in range(0, array):\n",
    "            data = float(input(\"Enter Number: \"))\n",
    "            l.append(data)\n",
    "        a = SmallNumber()\n",
    "        print(f\"The smallest number is {a.small_number(l)}\")\n",
    "    else:\n",
    "        print(\"List size can not be less than 0\")\n",
    "except ValueError:\n",
    "    print(\"Enter a number not string/float\")\n"
   ]
  },
  {
   "cell_type": "code",
   "execution_count": 7,
   "id": "cf030b92",
   "metadata": {},
   "outputs": [],
   "source": [
    "# Write a Python program to find largest number in a list?"
   ]
  },
  {
   "cell_type": "code",
   "execution_count": 29,
   "id": "bb687c32",
   "metadata": {},
   "outputs": [
    {
     "name": "stdout",
     "output_type": "stream",
     "text": [
      "Enter the list size: 6\n",
      "Enter Number: 23\n",
      "Enter Number: 14\n",
      "Enter Number: 56\n",
      "Enter Number: 2\n",
      "Enter Number: 54\n",
      "Enter Number: 44\n",
      "Your List is: [23.0, 14.0, 56.0, 2.0, 54.0, 44.0]\n",
      "The largest number is 56.0\n"
     ]
    }
   ],
   "source": [
    "class LargeNumber:\n",
    "    def large_number(self, array1):\n",
    "        self.list = array1\n",
    "        print(f\"Your List is: {self.list}\")\n",
    "        return max(self.list)\n",
    "\n",
    "\n",
    "try:\n",
    "    l = []\n",
    "    array = int(input(\"Enter the list size: \"))\n",
    "    if array > 0:\n",
    "        for i in range(0, array):\n",
    "            data = float(input(\"Enter Number: \"))\n",
    "            l.append(data)\n",
    "        a = LargeNumber()\n",
    "        print(f\"The largest number is {a.large_number(l)}\")\n",
    "    else:\n",
    "        print(\"List size can not be less than or equal to 0\")\n",
    "except ValueError:\n",
    "    print(\"Enter a number not string/float\")"
   ]
  },
  {
   "cell_type": "code",
   "execution_count": 10,
   "id": "3330ff1e",
   "metadata": {},
   "outputs": [],
   "source": [
    "# Write a Python program to find second largest number in a list?"
   ]
  },
  {
   "cell_type": "code",
   "execution_count": 32,
   "id": "536f00f5",
   "metadata": {},
   "outputs": [
    {
     "name": "stdout",
     "output_type": "stream",
     "text": [
      "Enter the list size: 9\n",
      "Enter Number: 25\n",
      "Enter Number: 11\n",
      "Enter Number: 32\n",
      "Enter Number: 4\n",
      "Enter Number: 26\n",
      "Enter Number: 39\n",
      "Enter Number: 47\n",
      "Enter Number: 16\n",
      "Enter Number: 14\n",
      "Your List is: [25.0, 11.0, 32.0, 4.0, 26.0, 39.0, 47.0, 16.0, 14.0]\n",
      "The second largest number is 39.0\n"
     ]
    }
   ],
   "source": [
    "class SecondLarge:\n",
    "    def second_large(self, array1):\n",
    "        self.list = array1\n",
    "        print(f\"Your List is: {self.list}\")\n",
    "        num = sorted(self.list, reverse=True)\n",
    "\n",
    "        return num[1]\n",
    "\n",
    "\n",
    "try:\n",
    "    l = []\n",
    "    array = int(input(\"Enter the list size: \"))\n",
    "    if array > 0:\n",
    "        for i in range(0, array):\n",
    "            data = float(input(\"Enter Number: \"))\n",
    "            l.append(data)\n",
    "        a = SecondLarge()\n",
    "        print(f\"The second largest number is {a.second_large(l)}\")\n",
    "    else:\n",
    "        print(\"List size can not be less than or equal to 0\")\n",
    "except ValueError:\n",
    "    print(\"Enter a number not string/float\")\n"
   ]
  },
  {
   "cell_type": "code",
   "execution_count": 31,
   "id": "23ef4c47",
   "metadata": {},
   "outputs": [],
   "source": [
    "# Write a Python program to find N largest elements from a list?"
   ]
  },
  {
   "cell_type": "code",
   "execution_count": 33,
   "id": "be6a098e",
   "metadata": {},
   "outputs": [
    {
     "name": "stdout",
     "output_type": "stream",
     "text": [
      "Enter the list size: 10\n",
      "Enter the number of largest number: 3\n",
      "Enter Number: 25\n",
      "Enter Number: 12\n",
      "Enter Number: 69\n",
      "Enter Number: 82\n",
      "Enter Number: 32\n",
      "Enter Number: 36\n",
      "Enter Number: 54\n",
      "Enter Number: 82\n",
      "Enter Number: 41\n",
      "Enter Number: 62\n",
      "Your List is: [25.0, 12.0, 69.0, 82.0, 32.0, 36.0, 54.0, 82.0, 41.0, 62.0]\n",
      "The 3 largest number is [82.0, 82.0, 69.0]\n"
     ]
    }
   ],
   "source": [
    "class NLargeNumber:\n",
    "    def n_largest_number(self, array1, count1):\n",
    "        self.list = array1\n",
    "        self.count = count1\n",
    "        print(f\"Your List is: {self.list}\")\n",
    "        num = sorted(self.list, reverse=True)\n",
    "        self.track = 0\n",
    "        self.result = []\n",
    "        for i in range(0, self.count):\n",
    "            self.result.append(num[self.track])\n",
    "            self.track +=1\n",
    "        return self.result\n",
    "\n",
    "\n",
    "try:\n",
    "    l = []\n",
    "    array = int(input(\"Enter the list size: \"))\n",
    "    count = int(input(\"Enter the number of largest number: \"))\n",
    "    if 0 < count <= array:\n",
    "        for i in range(0, array):\n",
    "            data = float(input(\"Enter Number: \"))\n",
    "            l.append(data)\n",
    "        a = NLargeNumber()\n",
    "        print(f\"The {count} largest number is {a.n_largest_number(l, count)}\")\n",
    "    else:\n",
    "        print(\"List size should be greater than the number of largest number and both should be greater than 0\")\n",
    "except ValueError:\n",
    "    print(\"Enter a number not string/float\")\n"
   ]
  },
  {
   "cell_type": "code",
   "execution_count": 14,
   "id": "7cc0a864",
   "metadata": {},
   "outputs": [],
   "source": [
    "# Write a Python program to print even numbers in a list?9\n"
   ]
  },
  {
   "cell_type": "code",
   "execution_count": 35,
   "id": "62080967",
   "metadata": {},
   "outputs": [
    {
     "name": "stdout",
     "output_type": "stream",
     "text": [
      "[2, 32, 22, 44, 24, 28, 32]\n"
     ]
    }
   ],
   "source": [
    "class EvenNumber:\n",
    "    def even_number(self, array1):\n",
    "        self.list = array1\n",
    "        self.track = dict()\n",
    "        self.result = []\n",
    "        for i in self.list:\n",
    "            if type(i) not in self.track:\n",
    "                self.track[type(i)] = [i]\n",
    "            else:\n",
    "                self.track[type(i)].append(i)\n",
    "        for key, val in self.track.items():\n",
    "            if key == list:\n",
    "                for k in val[0]:\n",
    "                    if k % 2 == 0:\n",
    "                        self.result.append(k)\n",
    "            if key == tuple:\n",
    "                for k in val[0]:\n",
    "                    if k % 2 == 0:\n",
    "                        self.result.append(k)\n",
    "            if key == int:\n",
    "                for k in val:\n",
    "                    if k % 2 == 0:\n",
    "                        self.result.append(k)\n",
    "        return self.result\n",
    "\n",
    "\n",
    "l = [2,3,5,32,[22,43,44,24],(28,29,32),38.88,\"dcdcd\"]\n",
    "a = EvenNumber()\n",
    "print(a.even_number(l))"
   ]
  },
  {
   "cell_type": "code",
   "execution_count": 16,
   "id": "daecbbe5",
   "metadata": {},
   "outputs": [],
   "source": [
    "# Write a Python program to print odd numbers in a List?"
   ]
  },
  {
   "cell_type": "code",
   "execution_count": 36,
   "id": "c727fda2",
   "metadata": {},
   "outputs": [
    {
     "name": "stdout",
     "output_type": "stream",
     "text": [
      "[3, 5, 43, 29]\n"
     ]
    }
   ],
   "source": [
    "class OddNumber:\n",
    "    def odd_number(self, array1):\n",
    "        self.list = array1\n",
    "        self.track = dict()\n",
    "        self.result = []\n",
    "        for i in self.list:\n",
    "            if type(i) not in self.track:\n",
    "                self.track[type(i)] = [i]\n",
    "            else:\n",
    "                self.track[type(i)].append(i)\n",
    "        for key, val in self.track.items():\n",
    "            if key == list:\n",
    "                for k in val[0]:\n",
    "                    if k % 2 != 0:\n",
    "                        self.result.append(k)\n",
    "            if key == tuple:\n",
    "                for k in val[0]:\n",
    "                    if k % 2 != 0:\n",
    "                        self.result.append(k)\n",
    "            if key == int:\n",
    "                for k in val:\n",
    "                    if k % 2 != 0:\n",
    "                        self.result.append(k)\n",
    "        return self.result\n",
    "\n",
    "\n",
    "l = [2,3,5,32,[22,43,44,24],(28,29,32),38.88,\"dcdcd\"]\n",
    "a = OddNumber()\n",
    "print(a.odd_number(l))"
   ]
  },
  {
   "cell_type": "code",
   "execution_count": 18,
   "id": "1e24d42f",
   "metadata": {},
   "outputs": [],
   "source": [
    "# Write a Python program to Remove empty List from List?"
   ]
  },
  {
   "cell_type": "code",
   "execution_count": 19,
   "id": "663b88f4",
   "metadata": {},
   "outputs": [
    {
     "name": "stdout",
     "output_type": "stream",
     "text": [
      "[[1], 2, 3, 5, 7, 32, [22, 43, [1], [5, [2, [3, 77, 7], 3, 6, 44, 24]]], (28, 29, 32), 38.88, 'dcdcd']\n"
     ]
    }
   ],
   "source": [
    "def empty_list(data):\n",
    "    m = data\n",
    "    result = []\n",
    "    c = 0\n",
    "    while c<=len(m)-1:\n",
    "        ll=len(m)-1\n",
    "        pp=m[c]\n",
    "        if type(m[c])==list:\n",
    "            if len(m[c])==0:\n",
    "                m.pop(c)\n",
    "            else:\n",
    "                empty_list(m[c])\n",
    "                z=m[c]\n",
    "                if len(m[c])>0:\n",
    "                    vv = m[c][0]\n",
    "                    if type(m[c][0])!=list:\n",
    "                        c+=1\n",
    "\n",
    "        else:\n",
    "            c+=1\n",
    "    result.append(m)\n",
    "    return m\n",
    "\n",
    "\n",
    "\n",
    "\n",
    "\n",
    "data = [[[[]]],[[[]],1,[]],[], 2, 3, 5, 7 , [], 32, [22, 43, [1], [5, [2, [3,[],77,[],[], 7], 3, 6, 44, 24]]], (28, 29, 32), [], 38.88, [],[],[], \"dcdcd\", []]\n",
    "\n",
    "print(empty_list(data))"
   ]
  },
  {
   "cell_type": "code",
   "execution_count": 20,
   "id": "a5761d89",
   "metadata": {},
   "outputs": [],
   "source": [
    "# Write a Python program to Cloning or Copying a list?"
   ]
  },
  {
   "cell_type": "code",
   "execution_count": 21,
   "id": "914616ed",
   "metadata": {},
   "outputs": [
    {
     "name": "stdout",
     "output_type": "stream",
     "text": [
      "The copied list is [(3, 'fsdfd', 77), 2, 3, [4, 55, 3, 'fsdfd'], (3, 'fsdfd', 77), 3, 66, 3, 77, 3, (3+5j), 3, 3, 3]\n"
     ]
    }
   ],
   "source": [
    "class List_Copy:\n",
    "    def __init__(self, list):\n",
    "        self.list = list\n",
    "\n",
    "    def list_copy(self):\n",
    "        self.copylist = [i for i in self.list]\n",
    "        return self.copylist\n",
    "\n",
    "\n",
    "\n",
    "\n",
    "l = [(3,'fsdfd',77),2,3,[4,55,3,'fsdfd'],(3,'fsdfd',77),3,66,3,77,3,3+5j,3,3,3]\n",
    "a = List_Copy(l)\n",
    "print(f\"The copied list is {a.list_copy()}\")\n"
   ]
  },
  {
   "cell_type": "code",
   "execution_count": 22,
   "id": "708ada05",
   "metadata": {},
   "outputs": [],
   "source": [
    "# Write a Python program to Count occurrences of an element in a list?"
   ]
  },
  {
   "cell_type": "code",
   "execution_count": 24,
   "id": "2b2ee931",
   "metadata": {},
   "outputs": [
    {
     "name": "stdout",
     "output_type": "stream",
     "text": [
      "{3: 10, 'fsdfd': 3, 77: 3, 2: 1, 4: 1, 55: 1, 66: 1, (3+5j): 1}\n"
     ]
    }
   ],
   "source": [
    "class Element_Counter:\n",
    "    def __init__(self, list):\n",
    "        self.list = list\n",
    "\n",
    "    def element_counter(self):\n",
    "        counter_dict = {}\n",
    "        for i in self.list:\n",
    "            m = type(i)\n",
    "            if (type(i) != list) and (type(i) != tuple):\n",
    "                if i in counter_dict.keys():\n",
    "                    counter_dict[i] = counter_dict.get(i)+1\n",
    "                else:\n",
    "                    counter_dict[i] = 1\n",
    "            else:\n",
    "                for j in i:\n",
    "                    if j in counter_dict.keys():\n",
    "                        counter_dict[j] = counter_dict.get(j)+1\n",
    "                    else:\n",
    "                        counter_dict[j] = 1\n",
    "\n",
    "        return counter_dict\n",
    "    l = [(3,'fsdfd',77),2,3,[4,55,3,'fsdfd'],(3,'fsdfd',77),3,66,3,77,3,3+5j,3,3,3]\n",
    "a = Element_Counter(l)\n",
    "print(a.element_counter())"
   ]
  },
  {
   "cell_type": "code",
   "execution_count": null,
   "id": "be63c329",
   "metadata": {},
   "outputs": [],
   "source": []
  }
 ],
 "metadata": {
  "kernelspec": {
   "display_name": "Python 3",
   "language": "python",
   "name": "python3"
  },
  "language_info": {
   "codemirror_mode": {
    "name": "ipython",
    "version": 3
   },
   "file_extension": ".py",
   "mimetype": "text/x-python",
   "name": "python",
   "nbconvert_exporter": "python",
   "pygments_lexer": "ipython3",
   "version": "3.8.8"
  }
 },
 "nbformat": 4,
 "nbformat_minor": 5
}
