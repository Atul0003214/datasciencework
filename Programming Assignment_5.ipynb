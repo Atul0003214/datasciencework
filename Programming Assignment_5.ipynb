{
 "cells": [
  {
   "cell_type": "code",
   "execution_count": null,
   "metadata": {},
   "outputs": [],
   "source": [
    "# 1.\tWrite a Python Program to Find LCM?"
   ]
  },
  {
   "cell_type": "code",
   "execution_count": 1,
   "metadata": {},
   "outputs": [
    {
     "name": "stdout",
     "output_type": "stream",
     "text": [
      "Enter the first number: 49\n",
      "Enter the second number: 53\n",
      "The LCM is 2597.0\n"
     ]
    }
   ],
   "source": [
    "try:\n",
    "    num1 = float(input(\"Enter the first number: \"))\n",
    "    num2 = float(input(\"Enter the second number: \"))\n",
    "except ValueError:\n",
    "    print(\"Please enter number\")\n",
    "else:\n",
    "    if num1 > num2:\n",
    "        gnum, lnum = num1, num2\n",
    "    else:\n",
    "        gnum, lnum = num2, num1\n",
    "    while True:\n",
    "        l = round((gnum % lnum), 2)\n",
    "        if l == 0:\n",
    "            hcf = lnum\n",
    "            # print(f\"The HCF is {hcf}\")\n",
    "            break\n",
    "        else:\n",
    "            gnum, lnum = round(lnum,2), round(l, 2)\n",
    "    lcm = round(((num1*num2)/hcf), 2)\n",
    "    print(f\"The LCM is {lcm}\")"
   ]
  },
  {
   "cell_type": "code",
   "execution_count": null,
   "metadata": {},
   "outputs": [],
   "source": [
    "# 2.Write a Python Program to Find HCF?"
   ]
  },
  {
   "cell_type": "code",
   "execution_count": 2,
   "metadata": {},
   "outputs": [
    {
     "name": "stdout",
     "output_type": "stream",
     "text": [
      "Enter the first number: 18\n",
      "Enter the second number: 72\n",
      "The HCF is 18.0\n"
     ]
    }
   ],
   "source": [
    "try:\n",
    "    num1 = float(input(\"Enter the first number: \"))\n",
    "    num2 = float(input(\"Enter the second number: \"))\n",
    "except ValueError:\n",
    "    print(\"Please enter number\")\n",
    "else:\n",
    "    if num1 > num2:\n",
    "        gnum, lnum = num1, num2\n",
    "    else:\n",
    "        gnum, lnum = num2, num1\n",
    "    while True:\n",
    "        l = round((gnum % lnum), 2)\n",
    "        if l == 0:\n",
    "            hcf = lnum\n",
    "            print(f\"The HCF is {hcf}\")\n",
    "            break\n",
    "        else:\n",
    "            gnum, lnum = round(lnum,2), round(l, 2)"
   ]
  },
  {
   "cell_type": "code",
   "execution_count": null,
   "metadata": {},
   "outputs": [],
   "source": [
    "#  Write a Python Program to Convert Decimal to Binary, Octal and Hexadecimal?"
   ]
  },
  {
   "cell_type": "code",
   "execution_count": 4,
   "metadata": {},
   "outputs": [
    {
     "name": "stdout",
     "output_type": "stream",
     "text": [
      "Enter a number: 49\n",
      "Enter B for Binary, O for octal and H for hexadecimalO\n",
      "61"
     ]
    }
   ],
   "source": [
    "try:\n",
    "    num = int(input(\"Enter a number: \"))\n",
    "    op = input(\"Enter B for Binary, O for octal and H for hexadecimal\")\n",
    "except ValueError:\n",
    "    print(\"Enter a number\")\n",
    "else:\n",
    "    if num >= 0:\n",
    "        def convert(data):\n",
    "            if data == 10:\n",
    "                return \"A\"\n",
    "            elif data == 11:\n",
    "                return \"B\"\n",
    "            elif data == 12:\n",
    "                return \"C\"\n",
    "            elif data == 13:\n",
    "                return \"D\"\n",
    "            elif data == 14:\n",
    "                return \"E\"\n",
    "            elif data == 15:\n",
    "                return \"F\"\n",
    "            else:\n",
    "                return data\n",
    "\n",
    "        def dec_binary(num):\n",
    "            if num > 1:\n",
    "                if num // 2 != 0:\n",
    "                    dec_binary(num // 2)\n",
    "            print(num % 2, end='')\n",
    "\n",
    "        def dec_octal(num):\n",
    "            if num > 1:\n",
    "                if num // 8 != 0:\n",
    "                    dec_octal(num // 8)\n",
    "            print(num % 8, end='')\n",
    "\n",
    "        def dec_hexa(num):\n",
    "            if num > 1:\n",
    "                if num//16 != 0:\n",
    "                    dec_hexa(num // 16)\n",
    "            print(convert(num % 16), end='')\n",
    "\n",
    "        if op.upper() == \"B\":\n",
    "            dec_binary(num)\n",
    "        elif op.upper() == \"O\":\n",
    "            dec_octal(num)\n",
    "        elif op.upper() == \"H\":\n",
    "            dec_hexa(num)\n",
    "    else:\n",
    "        print(\"Enter a number greater than or equal zero\")\n"
   ]
  },
  {
   "cell_type": "code",
   "execution_count": null,
   "metadata": {},
   "outputs": [],
   "source": [
    "# Write a Python Program To Find ASCII value of a character?"
   ]
  },
  {
   "cell_type": "code",
   "execution_count": 6,
   "metadata": {},
   "outputs": [
    {
     "name": "stdout",
     "output_type": "stream",
     "text": [
      "Enter a character: %\n",
      "37\n"
     ]
    }
   ],
   "source": [
    "# Write a Python Program To Find ASCII value of a character?\n",
    "c = input(\"Enter a character: \")\n",
    "try:\n",
    "    print(ord(c))\n",
    "except TypeError:\n",
    "    print(\"Please enter only one character\")"
   ]
  },
  {
   "cell_type": "code",
   "execution_count": null,
   "metadata": {},
   "outputs": [],
   "source": [
    "# Write a Python Program to Make a Simple Calculator with 4 basic mathematical operations?"
   ]
  },
  {
   "cell_type": "code",
   "execution_count": 7,
   "metadata": {},
   "outputs": [
    {
     "name": "stdout",
     "output_type": "stream",
     "text": [
      "Enter the first number: 78\n",
      "Enter the second number: 2\n",
      "Enter + for addition, - for subraction, * for multiplication, / for division/\n",
      "39.0\n"
     ]
    }
   ],
   "source": [
    "try:\n",
    "    num1 = float(input(\"Enter the first number: \"))\n",
    "    num2 = float(input(\"Enter the second number: \"))\n",
    "    operation = input(\"Enter + for addition, - for subraction, * for multiplication, / for division\")\n",
    "except ValueError:\n",
    "    print(\"Please enter number\")\n",
    "else:\n",
    "    def add(num1, num2):\n",
    "        return num1+num2\n",
    "\n",
    "    def sub(num1, num2):\n",
    "        return num1-num2\n",
    "\n",
    "    def mul(num1, num2):\n",
    "        return num1*num2\n",
    "\n",
    "    def div(num1, num2):\n",
    "        return num1/num2\n",
    "\n",
    "    if operation == \"+\":\n",
    "        print(add(num1, num2))\n",
    "    elif operation == \"-\":\n",
    "        print(sub(num1, num2))\n",
    "    elif operation == \"*\":\n",
    "        print(mul(num1, num2))\n",
    "    elif operation == \"/\":\n",
    "        print(div(num1, num2))\n",
    "    else:\n",
    "        print(\"Enter correct operation\")\n"
   ]
  }
 ],
 "metadata": {
  "kernelspec": {
   "display_name": "Python 3",
   "language": "python",
   "name": "python3"
  },
  "language_info": {
   "codemirror_mode": {
    "name": "ipython",
    "version": 3
   },
   "file_extension": ".py",
   "mimetype": "text/x-python",
   "name": "python",
   "nbconvert_exporter": "python",
   "pygments_lexer": "ipython3",
   "version": "3.8.5"
  }
 },
 "nbformat": 4,
 "nbformat_minor": 4
}
