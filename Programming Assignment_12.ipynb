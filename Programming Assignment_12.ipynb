{
 "cells": [
  {
   "cell_type": "code",
   "execution_count": 1,
   "id": "da2bd010",
   "metadata": {},
   "outputs": [],
   "source": [
    "#1.\tWrite a Python program to Extract Unique values dictionary values?"
   ]
  },
  {
   "cell_type": "code",
   "execution_count": 2,
   "id": "1bada820",
   "metadata": {},
   "outputs": [
    {
     "name": "stdout",
     "output_type": "stream",
     "text": [
      "['ddd', 33, 44]\n"
     ]
    }
   ],
   "source": [
    "def unique_identifier(data):\n",
    "    value_collection = data.values()\n",
    "    unique_list = []\n",
    "    for i in value_collection:\n",
    "        if i in unique_list:\n",
    "            continue\n",
    "        else:\n",
    "            unique_list.append(i)\n",
    "    return unique_list\n",
    "\n",
    "\n",
    "print(unique_identifier({\"key\":\"ddd\",\"key2\":33,\"key1\":\"ddd\",\"key3\":44}))"
   ]
  },
  {
   "cell_type": "code",
   "execution_count": 3,
   "id": "e16389e9",
   "metadata": {},
   "outputs": [],
   "source": [
    "#\tWrite a Python program to find the sum of all items in a dictionary?"
   ]
  },
  {
   "cell_type": "code",
   "execution_count": 4,
   "id": "e0a00103",
   "metadata": {},
   "outputs": [
    {
     "name": "stdout",
     "output_type": "stream",
     "text": [
      "73.0\n"
     ]
    }
   ],
   "source": [
    "def dict_sum(data):\n",
    "    values = list(data.values())\n",
    "    total = 0.0\n",
    "    for i in values:\n",
    "        total = total+i\n",
    "    return total\n",
    "\n",
    "data1 = {\"a\":2,\"d\":33,\"g\":5,\"h\":33}\n",
    "print(dict_sum(data1))"
   ]
  },
  {
   "cell_type": "code",
   "execution_count": 5,
   "id": "54442969",
   "metadata": {},
   "outputs": [],
   "source": [
    "#\tWrite a Python program to Merging two Dictionaries?"
   ]
  },
  {
   "cell_type": "code",
   "execution_count": 6,
   "id": "726fd236",
   "metadata": {},
   "outputs": [
    {
     "name": "stdout",
     "output_type": "stream",
     "text": [
      "{'key': 'ddd', 'key2': 33, 'key1': 'ddd', 'key3': 44, 'a': 2, 'd': 33, 'g': 5, 'h': 33}\n"
     ]
    }
   ],
   "source": [
    "def dictionary_merge(dict1, dict2):\n",
    "    for key, value in dict1.items():\n",
    "        dict2[key] = value\n",
    "    return dict2\n",
    "\n",
    "data1 = {\"a\":2,\"d\":33,\"g\":5,\"h\":33}\n",
    "data2 = {\"key\":\"ddd\",\"key2\":33,\"key1\":\"ddd\",\"key3\":44}\n",
    "print(dictionary_merge(data1, data2))"
   ]
  },
  {
   "cell_type": "code",
   "execution_count": 7,
   "id": "f509bdfb",
   "metadata": {},
   "outputs": [],
   "source": [
    "# Write a Python program to convert key-values list to flat dictionary?"
   ]
  },
  {
   "cell_type": "code",
   "execution_count": 8,
   "id": "29896806",
   "metadata": {},
   "outputs": [
    {
     "name": "stdout",
     "output_type": "stream",
     "text": [
      "{'key': 'value', 'key1': 'value1', 'key2': 'value2'}\n"
     ]
    }
   ],
   "source": [
    "def dictionary_converter(dict1):\n",
    "    dictionary = dict(dict1)\n",
    "    return dictionary\n",
    "\n",
    "\n",
    "data1 = [(\"key\",\"value\"),(\"key1\",\"value1\"),(\"key2\",\"value2\")]\n",
    "print(dictionary_converter(data1))"
   ]
  },
  {
   "cell_type": "code",
   "execution_count": 9,
   "id": "e377ffbd",
   "metadata": {},
   "outputs": [],
   "source": [
    "# Write a Python program to insertion at the beginning in OrderedDict?"
   ]
  },
  {
   "cell_type": "code",
   "execution_count": 11,
   "id": "60929b7c",
   "metadata": {},
   "outputs": [
    {
     "name": "stdout",
     "output_type": "stream",
     "text": [
      "OrderedDict([('m', 4), ('pineapple', 0), ('a', 2), ('b', 3)])\n"
     ]
    }
   ],
   "source": [
    "from collections import OrderedDict\n",
    "\n",
    "\n",
    "def beginning_insert(dictionary, data):\n",
    "    dic_obj = OrderedDict(dictionary)\n",
    "    # dic = dic_obj.fromkeys(dictionary)\n",
    "    for key, value in data.items():\n",
    "        dic_obj[key]=value\n",
    "        dic_obj.move_to_end(key, last=False)\n",
    "\n",
    "    return dic_obj\n",
    "\n",
    "\n",
    "if __name__ == \"__main__\":\n",
    "    dictionary = {'a': 2, 'b': 3}\n",
    "    data = {\"pineapple\": 0,\"m\":4}\n",
    "    print(beginning_insert(dictionary, data))\n",
    "\n"
   ]
  },
  {
   "cell_type": "code",
   "execution_count": 12,
   "id": "de7fff46",
   "metadata": {},
   "outputs": [],
   "source": [
    "# Write a Python program to check order of character in string using OrderedDict()?"
   ]
  },
  {
   "cell_type": "code",
   "execution_count": 13,
   "id": "107c0580",
   "metadata": {},
   "outputs": [
    {
     "name": "stdout",
     "output_type": "stream",
     "text": [
      "False\n"
     ]
    }
   ],
   "source": [
    "from collections import OrderedDict\n",
    "\n",
    "\n",
    "def order_check(input, ord):\n",
    "    dic = OrderedDict.fromkeys(input)\n",
    "    count = 0\n",
    "    for key, val in dic.items():\n",
    "        if key == ord[count]:\n",
    "            count +=1\n",
    "        d = len(pattern)\n",
    "        if count == len(ord):\n",
    "            return True\n",
    "\n",
    "    return False\n",
    "\n",
    "\n",
    "if __name__ == \"__main__\":\n",
    "    data = 'datascience rock'\n",
    "    pattern = 'tki'\n",
    "    print(order_check(data, pattern))"
   ]
  },
  {
   "cell_type": "code",
   "execution_count": 14,
   "id": "c4c4de0f",
   "metadata": {},
   "outputs": [],
   "source": [
    "# Write a Python program to sort Python Dictionaries by Key or Value?"
   ]
  },
  {
   "cell_type": "code",
   "execution_count": 15,
   "id": "85a41968",
   "metadata": {},
   "outputs": [
    {
     "name": "stdout",
     "output_type": "stream",
     "text": [
      "{'a': None, 'd': None, 'g': None, 'h': None, 'x': None}\n",
      "{'key4': 22, 'key1': 22, 'key2': 33, 'key3': 44, 'key': 55}\n"
     ]
    }
   ],
   "source": [
    "def dictionary_sort_key(dict1):\n",
    "    keys = sorted(list(dict1.keys()))\n",
    "    sorted_dict = {}\n",
    "    for i in keys:\n",
    "        sorted_dict[i] = dict1.get(\"i\")\n",
    "    return sorted_dict\n",
    "\n",
    "def dictionary_sort_value(dict2):\n",
    "    val_sorted_dict = {}\n",
    "    keys = sorted(list(dict2.values()))\n",
    "    for i in keys:\n",
    "        for k1, v1 in dict2.items():\n",
    "            if i == v1:\n",
    "                val_sorted_dict[k1] = v1\n",
    "\n",
    "    return val_sorted_dict\n",
    "\n",
    "\n",
    "\n",
    "\n",
    "data1 = {\"h\":33,\"a\":2,\"x\":54,\"d\":33,\"g\":5}\n",
    "data2 = {\"key4\":22,\"key\":55,\"key2\":33,\"key1\":22,\"key3\":44}\n",
    "print(dictionary_sort_key(data1))\n",
    "print(dictionary_sort_value(data2))"
   ]
  },
  {
   "cell_type": "code",
   "execution_count": null,
   "id": "d2f31590",
   "metadata": {},
   "outputs": [],
   "source": []
  }
 ],
 "metadata": {
  "kernelspec": {
   "display_name": "Python 3",
   "language": "python",
   "name": "python3"
  },
  "language_info": {
   "codemirror_mode": {
    "name": "ipython",
    "version": 3
   },
   "file_extension": ".py",
   "mimetype": "text/x-python",
   "name": "python",
   "nbconvert_exporter": "python",
   "pygments_lexer": "ipython3",
   "version": "3.8.8"
  }
 },
 "nbformat": 4,
 "nbformat_minor": 5
}
