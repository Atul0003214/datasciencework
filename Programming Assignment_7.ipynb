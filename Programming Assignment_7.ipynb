{
 "cells": [
  {
   "cell_type": "code",
   "execution_count": null,
   "metadata": {},
   "outputs": [],
   "source": [
    "#1.\tWrite a Python Program to find sum of array?"
   ]
  },
  {
   "cell_type": "code",
   "execution_count": 1,
   "metadata": {},
   "outputs": [
    {
     "name": "stdout",
     "output_type": "stream",
     "text": [
      "Enter the number of element5\n",
      "Start Entering Number2\n",
      "Start Entering Number3.3\n",
      "Start Entering Number3.56\n",
      "Start Entering Number4.321\n",
      "Start Entering Number5.2365\n",
      "Your Array is: [2.0, 3.3, 3.56, 4.321, 5.2365]\n",
      "The sum of the array is 18.4175\n"
     ]
    }
   ],
   "source": [
    "class ArraySum:\n",
    "    def array_sum(self, array):\n",
    "        self.array = array\n",
    "        self.sum = 0.0\n",
    "        print(f\"Your Array is: {self.array}\")\n",
    "        for i in self.array:\n",
    "            self.sum = self.sum + i\n",
    "        return self.sum\n",
    "\n",
    "try:\n",
    "    l = []\n",
    "    array = int(input(\"Enter the number of element\"))\n",
    "    for i in range(0, array):\n",
    "        data = float(input(\"Start Entering Number\"))\n",
    "        l.append(data)\n",
    "except ValueError:\n",
    "    print(\"Enter the correct value\")\n",
    "else:\n",
    "    a = ArraySum()\n",
    "    print(f\"The sum of the array is {a.array_sum(l)}\")\n"
   ]
  },
  {
   "cell_type": "code",
   "execution_count": null,
   "metadata": {},
   "outputs": [],
   "source": [
    "# Write a Python Program to find largest element in an array?"
   ]
  },
  {
   "cell_type": "code",
   "execution_count": 2,
   "metadata": {},
   "outputs": [
    {
     "name": "stdout",
     "output_type": "stream",
     "text": [
      "Enter the number of element for the array: 6\n",
      "Enter Number: 2\n",
      "Enter Number: 6\n",
      "Enter Number: 7\n",
      "Enter Number: 9.32\n",
      "Enter Number: 9.33\n",
      "Enter Number: 9.34\n",
      "Your Array is: [2.0, 6.0, 7.0, 9.32, 9.33, 9.34]\n",
      "The largest element in the array is 9.34\n"
     ]
    }
   ],
   "source": [
    "class ArrayContainer:\n",
    "    def max_finder(self, array1):\n",
    "        self.array = array1\n",
    "        print(f\"Your Array is: {self.array}\")\n",
    "        return max(self.array)\n",
    "\n",
    "\n",
    "\n",
    "try:\n",
    "    l = []\n",
    "    array = int(input(\"Enter the number of element for the array: \"))\n",
    "    for i in range(0, array):\n",
    "        data = float(input(\"Enter Number: \"))\n",
    "        l.append(data)\n",
    "except ValueError:\n",
    "    print(\"Enter a number\")\n",
    "else:\n",
    "    a = ArrayContainer()\n",
    "    print(f\"The largest element in the array is {a.max_finder(l)}\")"
   ]
  },
  {
   "cell_type": "code",
   "execution_count": null,
   "metadata": {},
   "outputs": [],
   "source": [
    "# Write a Python Program for array rotation"
   ]
  },
  {
   "cell_type": "code",
   "execution_count": 3,
   "metadata": {},
   "outputs": [
    {
     "name": "stdout",
     "output_type": "stream",
     "text": [
      "Enter the number of element: 5\n",
      "Enter Number: 6\n",
      "Enter Number: 99.32\n",
      "Enter Number: 78.235\n",
      "Enter Number: 54\n",
      "Enter Number: 99\n",
      "Your Array is: [6.0, 99.32, 78.235, 54.0, 99.0]\n",
      "The rotated array is [99.0, 54.0, 78.235, 99.32, 6.0]\n"
     ]
    }
   ],
   "source": [
    "class ArrayRotator:\n",
    "    def array_rotate(self, array1):\n",
    "        self.array = array1\n",
    "        print(f\"Your Array is: {self.array}\")\n",
    "        return [i for i in reversed(self.array)]\n",
    "\n",
    "\n",
    "try:\n",
    "    l = []\n",
    "    array = int(input(\"Enter the number of element: \"))\n",
    "    for i in range(0, array):\n",
    "        data = float(input(\"Enter Number: \"))\n",
    "        l.append(data)\n",
    "except ValueError:\n",
    "    print(\"Enter a number\")\n",
    "else:\n",
    "    a = ArrayRotator()\n",
    "    print(f\"The rotated array is {a.array_rotate(l)}\")"
   ]
  },
  {
   "cell_type": "code",
   "execution_count": null,
   "metadata": {},
   "outputs": [],
   "source": [
    "# Write a Python Program to Split the array and add the first part to the end?"
   ]
  },
  {
   "cell_type": "code",
   "execution_count": 4,
   "metadata": {},
   "outputs": [
    {
     "name": "stdout",
     "output_type": "stream",
     "text": [
      "Enter the number of element: 6\n",
      "Enter Number: 23\n",
      "Enter Number: 9.35\n",
      "Enter Number: 66\n",
      "Enter Number: 785\n",
      "Enter Number: 963\n",
      "Enter Number: 55\n",
      "Your Array is: [23.0, 9.35, 66.0, 785.0, 963.0, 55.0]\n",
      "The final array is [9.35, 66.0, 785.0, 963.0, 55.0, 23.0]\n"
     ]
    }
   ],
   "source": [
    "class ArraySplit:\n",
    "    def array_split(self, array1):\n",
    "        self.array = array1\n",
    "        print(f\"Your Array is: {self.array}\")\n",
    "        self.f_num = self.array.pop(0)\n",
    "        self.array.insert(len(self.array), self.f_num)\n",
    "        return self.array\n",
    "\n",
    "\n",
    "try:\n",
    "    l = []\n",
    "    array = int(input(\"Enter the number of element: \"))\n",
    "    for i in range(0, array):\n",
    "        data = float(input(\"Enter Number: \"))\n",
    "        l.append(data)\n",
    "except ValueError:\n",
    "    print(\"Enter a number not string\")\n",
    "else:\n",
    "    a = ArraySplit()\n",
    "    print(f\"The final array is {a.array_split(l)}\")"
   ]
  },
  {
   "cell_type": "code",
   "execution_count": null,
   "metadata": {},
   "outputs": [],
   "source": [
    "# Write a Python Program to check if given array is Monotonic?"
   ]
  },
  {
   "cell_type": "code",
   "execution_count": 5,
   "metadata": {},
   "outputs": [
    {
     "name": "stdout",
     "output_type": "stream",
     "text": [
      "Enter the number of element: 6\n",
      "Enter Number: 3\n",
      "Enter Number: 4\n",
      "Enter Number: 6\n",
      "Enter Number: 7\n",
      "Enter Number: 9\n",
      "Enter Number: 10\n",
      "Your Array is: [3.0, 4.0, 6.0, 7.0, 9.0, 10.0]\n",
      "The number is monotonic\n"
     ]
    }
   ],
   "source": [
    "class MonotonicTest:\n",
    "    def monotonic_test(self, array1):\n",
    "        self.array = array1\n",
    "        print(f\"Your Array is: {self.array}\")\n",
    "        self.check = False\n",
    "        for i in range(0, len(self.array)-1):\n",
    "            if self.array[i+1] >= self.array[i]:\n",
    "                self.check = False\n",
    "            else:\n",
    "                self.check = True\n",
    "                break\n",
    "        if self.check:\n",
    "            for i in range(0, len(self.array)-1):\n",
    "                if self.array[i+1] <= self.array[i]:\n",
    "                    self.check = False\n",
    "                else:\n",
    "                    self.check = True\n",
    "                    break\n",
    "        return self.check\n",
    "\n",
    "try:\n",
    "    l = []\n",
    "    array = int(input(\"Enter the number of element: \"))\n",
    "    for i in range(0, array):\n",
    "        data = float(input(\"Enter Number: \"))\n",
    "        l.append(data)\n",
    "except ValueError:\n",
    "    print(\"Enter a number not string\")\n",
    "else:\n",
    "    a = MonotonicTest()\n",
    "    if a.monotonic_test(l):\n",
    "        print(\"The number is not monotonic\")\n",
    "    else:\n",
    "        print(\"The number is monotonic\")"
   ]
  }
 ],
 "metadata": {
  "kernelspec": {
   "display_name": "Python 3",
   "language": "python",
   "name": "python3"
  },
  "language_info": {
   "codemirror_mode": {
    "name": "ipython",
    "version": 3
   },
   "file_extension": ".py",
   "mimetype": "text/x-python",
   "name": "python",
   "nbconvert_exporter": "python",
   "pygments_lexer": "ipython3",
   "version": "3.8.5"
  }
 },
 "nbformat": 4,
 "nbformat_minor": 4
}
