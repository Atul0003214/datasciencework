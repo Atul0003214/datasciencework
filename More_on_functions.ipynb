{
 "cells": [
  {
   "cell_type": "markdown",
   "id": "6907e899-6907-423b-97a8-af4b6b882e47",
   "metadata": {},
   "source": [
    "1. Write a python program to create a function that takes a list and returns a new list\n",
    "with the original list's unique elements."
   ]
  },
  {
   "cell_type": "code",
   "execution_count": 2,
   "id": "eb3a0242-bd75-401c-85df-0cf5e6d96787",
   "metadata": {},
   "outputs": [
    {
     "name": "stdout",
     "output_type": "stream",
     "text": [
      "[3, 2, 4, 1, 5, 6, 7, 9]\n"
     ]
    }
   ],
   "source": [
    "def listUniqueElement(a):\n",
    "    newList = []\n",
    "    for i in a:\n",
    "        if i not in newList:\n",
    "            newList.append(i)\n",
    "    return newList\n",
    "\n",
    "print(listUniqueElement([3,2,4,3,2,1,5,6,7,6,6,9]))"
   ]
  },
  {
   "cell_type": "markdown",
   "id": "c7ca82f9-c151-4369-b690-e57d3eca7ca5",
   "metadata": {},
   "source": [
    "2. Write a python program to create a function that takes a number as a parameter and\n",
    "checks if the number is prime or not."
   ]
  },
  {
   "cell_type": "code",
   "execution_count": 5,
   "id": "99da6ab7-a2f4-483b-add9-acc8d5bb2bfb",
   "metadata": {},
   "outputs": [],
   "source": [
    "import math"
   ]
  },
  {
   "cell_type": "code",
   "execution_count": 10,
   "id": "7b006841-4344-49fe-ba51-f7af911665dd",
   "metadata": {},
   "outputs": [
    {
     "name": "stdout",
     "output_type": "stream",
     "text": [
      "the number is prim number\n"
     ]
    }
   ],
   "source": [
    "def primCheck(num):\n",
    "    fact = 0\n",
    "    for i in range(1,num+1):\n",
    "        if num%i==0:\n",
    "            fact+=1\n",
    "    if fact == 2:\n",
    "        print(\"the number is prim number\")\n",
    "    else:\n",
    "        print(\"The number is not prim\")\n",
    "        \n",
    "        \n",
    "primCheck(11)    "
   ]
  },
  {
   "cell_type": "markdown",
   "id": "80497be0-11e3-431e-8af8-494be2a2ecbf",
   "metadata": {},
   "source": [
    "3. Write a python program to create a function that prints the even numbers from a\n",
    "given list."
   ]
  },
  {
   "cell_type": "code",
   "execution_count": 12,
   "id": "1316c7de-b54f-4525-9044-86e60a1e9b87",
   "metadata": {},
   "outputs": [
    {
     "name": "stdout",
     "output_type": "stream",
     "text": [
      "2\n",
      "4\n",
      "6\n",
      "8\n",
      "10\n"
     ]
    }
   ],
   "source": [
    "def evenPrint(a):\n",
    "    for i in a:\n",
    "        if i % 2==0:\n",
    "            print(i)\n",
    "            \n",
    "evenPrint([3,2,4,5,6,7,8,9,10,11])"
   ]
  },
  {
   "cell_type": "markdown",
   "id": "d84f1dc8-ae1e-40ca-af7d-2cd1ea7a3e83",
   "metadata": {},
   "source": [
    "4. Write a python program to create a function that checks whether a passed string is\n",
    "palindrome or not."
   ]
  },
  {
   "cell_type": "code",
   "execution_count": 9,
   "id": "18c6a851-0ee4-43e1-80bc-9077a66c4742",
   "metadata": {},
   "outputs": [
    {
     "name": "stdout",
     "output_type": "stream",
     "text": [
      "the string is palindrome\n"
     ]
    }
   ],
   "source": [
    "def palindrom(data):\n",
    "    if data == data[::-1]:\n",
    "        print(\"the string is palindrome\")\n",
    "    else:\n",
    "        print(\"the string is not palindrom\")\n",
    "\n",
    "palindrom(\"12321\")"
   ]
  },
  {
   "cell_type": "markdown",
   "id": "6d69e092-9d54-476d-9205-100e65370592",
   "metadata": {},
   "source": [
    "5. Write a python program to create a function to find the Min of three numbers."
   ]
  },
  {
   "cell_type": "code",
   "execution_count": 11,
   "id": "fdf62aa7-49af-43f6-a6c3-e164f305f246",
   "metadata": {},
   "outputs": [
    {
     "name": "stdout",
     "output_type": "stream",
     "text": [
      "3\n"
     ]
    }
   ],
   "source": [
    "def minFinder(a,b,c):\n",
    "    print(min(a,b,c))\n",
    "    \n",
    "minFinder(5,20,3)"
   ]
  },
  {
   "cell_type": "markdown",
   "id": "051e3409-dc44-4874-93f6-ef1ec2684a41",
   "metadata": {},
   "source": [
    "6. Write a python program to create a function and print a list where the values are\n",
    "square of numbers between 1 and 30."
   ]
  },
  {
   "cell_type": "code",
   "execution_count": 14,
   "id": "528250ff-7f10-485e-8c49-83eac00418fa",
   "metadata": {},
   "outputs": [
    {
     "name": "stdout",
     "output_type": "stream",
     "text": [
      "[1, 4, 9, 16, 25, 36, 49, 64, 81, 100, 121, 144, 169, 196, 225, 256, 289, 324, 361, 400, 441, 484, 529, 576, 625, 676, 729, 784, 841, 900]\n"
     ]
    }
   ],
   "source": [
    "def printList():\n",
    "    new_list = []\n",
    "    for i in range(1,31):\n",
    "        new_list.append(i**2)\n",
    "    return new_list\n",
    "\n",
    "print(printList())"
   ]
  },
  {
   "cell_type": "markdown",
   "id": "f3cdd7da-cc16-43f3-ba04-4e40d5a17a90",
   "metadata": {},
   "source": [
    "7. Write a python program to access a function inside a function."
   ]
  },
  {
   "cell_type": "code",
   "execution_count": 16,
   "id": "3c702e0b-7f52-4192-b818-e99f5c17815f",
   "metadata": {},
   "outputs": [
    {
     "name": "stdout",
     "output_type": "stream",
     "text": [
      "inside Child\n"
     ]
    }
   ],
   "source": [
    "def main():\n",
    "    def child():\n",
    "        print(\"inside Child\")\n",
    "    child()\n",
    "\n",
    "main()"
   ]
  },
  {
   "cell_type": "markdown",
   "id": "61849987-9a88-4570-8db0-513e21adaa73",
   "metadata": {},
   "source": [
    "8. Write a python program to create a function that accepts a string and calculate the\n",
    "number of upper case letters and lower case letters."
   ]
  },
  {
   "cell_type": "code",
   "execution_count": 19,
   "id": "323245fe-c585-46b4-a4e7-bf6a6a64ac41",
   "metadata": {},
   "outputs": [
    {
     "name": "stdout",
     "output_type": "stream",
     "text": [
      "The upper count is 3 and lower count is 4\n"
     ]
    }
   ],
   "source": [
    "def charCount(data):\n",
    "    upperCount=0\n",
    "    lowerCount=0\n",
    "    for i in data:\n",
    "        if i.isupper():\n",
    "            upperCount+=1\n",
    "        if i.islower():\n",
    "            lowerCount+=1\n",
    "    return f\"The upper count is {upperCount} and lower count is {lowerCount}\"\n",
    "\n",
    "print(charCount(\"AvAvvvA\"))"
   ]
  },
  {
   "cell_type": "markdown",
   "id": "8af2a9d1-1d57-4a6d-8509-a92363906906",
   "metadata": {},
   "source": [
    "9. Write a python program to create a function to check whether a string is a pangram\n",
    "or not."
   ]
  },
  {
   "cell_type": "code",
   "execution_count": 18,
   "id": "7e92d1c1-882c-418c-af4e-1d0fa8f9078a",
   "metadata": {},
   "outputs": [],
   "source": [
    "def pangram(data):\n",
    "    finalCollection = set()\n",
    "    for i in data:\n",
    "        if i.isalpha():\n",
    "            finalCollection.add(i)\n",
    "    if len(finalCollection) ==26:\n",
    "        print(\"the string is pangram\")\n",
    "    else:\n",
    "        print(\"The string is not pangram.\")"
   ]
  },
  {
   "cell_type": "code",
   "execution_count": 20,
   "id": "76a82af8-883f-4a9d-9965-fda450e6a2b4",
   "metadata": {},
   "outputs": [
    {
     "name": "stdout",
     "output_type": "stream",
     "text": [
      "the string is pangram\n"
     ]
    }
   ],
   "source": [
    "pangram(\"My ex pub quiz crowd gave Joyful thanks\")"
   ]
  },
  {
   "cell_type": "markdown",
   "id": "85de72f8-52db-4210-9d7e-c0dcb305037a",
   "metadata": {},
   "source": [
    "10. Write a python program to create a function to check whether a string is an anagram\n",
    "or not."
   ]
  },
  {
   "cell_type": "code",
   "execution_count": 21,
   "id": "ef0e4b2f-5137-41d1-a821-17d982088529",
   "metadata": {},
   "outputs": [],
   "source": [
    "def anagramCheck(a,b):\n",
    "    if sorted(a) == sorted(b):\n",
    "        print(\"the strings are anagram\")\n",
    "    else:\n",
    "        print(\"The strings are not anagram\")"
   ]
  },
  {
   "cell_type": "code",
   "execution_count": 24,
   "id": "959542f2-bebd-48ed-a171-e980a08b0ab5",
   "metadata": {},
   "outputs": [
    {
     "name": "stdout",
     "output_type": "stream",
     "text": [
      "the strings are anagram\n"
     ]
    }
   ],
   "source": [
    "anagramCheck(\"listen\",\"silent\")"
   ]
  },
  {
   "cell_type": "code",
   "execution_count": null,
   "id": "3b96ddde-76ab-4c1a-8fa9-f4c032abefd1",
   "metadata": {},
   "outputs": [],
   "source": []
  }
 ],
 "metadata": {
  "kernelspec": {
   "display_name": "Python 3 (ipykernel)",
   "language": "python",
   "name": "python3"
  },
  "language_info": {
   "codemirror_mode": {
    "name": "ipython",
    "version": 3
   },
   "file_extension": ".py",
   "mimetype": "text/x-python",
   "name": "python",
   "nbconvert_exporter": "python",
   "pygments_lexer": "ipython3",
   "version": "3.9.12"
  }
 },
 "nbformat": 4,
 "nbformat_minor": 5
}
